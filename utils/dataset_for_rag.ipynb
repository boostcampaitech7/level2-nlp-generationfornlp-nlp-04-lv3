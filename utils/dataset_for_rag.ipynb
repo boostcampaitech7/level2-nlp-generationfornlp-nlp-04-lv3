{
 "cells": [
  {
   "cell_type": "code",
   "execution_count": 6,
   "metadata": {},
   "outputs": [
    {
     "name": "stdout",
     "output_type": "stream",
     "text": [
      "DatasetDict({\n",
      "    train: Dataset({\n",
      "        features: ['id', 'title', 'context', 'question', 'answers', 'similar_context'],\n",
      "        num_rows: 9606\n",
      "    })\n",
      "    validation: Dataset({\n",
      "        features: ['id', 'title', 'context', 'question', 'answers', 'similar_context'],\n",
      "        num_rows: 960\n",
      "    })\n",
      "})\n"
     ]
    },
    {
     "data": {
      "text/plain": [
       "\" korean-corpus/korquad_v1.0_namu_candidates_256\\nDatasetDict({\\n    train: Dataset({\\n        features: ['id', 'title', 'context', 'question', 'answers', 'similar_context'],\\n        num_rows: 9606\\n    })\\n    validation: Dataset({\\n        features: ['id', 'title', 'context', 'question', 'answers', 'similar_context'],\\n        num_rows: 960\\n    })\\n})\\n\""
      ]
     },
     "execution_count": 6,
     "metadata": {},
     "output_type": "execute_result"
    }
   ],
   "source": [
    "from datasets import load_dataset\n",
    "rag_data = load_dataset('korean-corpus/korquad_v1.0_namu_candidates_256')\n",
    "print(rag_data)\n",
    "''' korean-corpus/korquad_v1.0_namu_candidates_256\n",
    "DatasetDict({\n",
    "    train: Dataset({\n",
    "        features: ['id', 'title', 'context', 'question', 'answers', 'similar_context'],\n",
    "        num_rows: 9606\n",
    "    })\n",
    "    validation: Dataset({\n",
    "        features: ['id', 'title', 'context', 'question', 'answers', 'similar_context'],\n",
    "        num_rows: 960\n",
    "    })\n",
    "})\n",
    "'''"
   ]
  },
  {
   "cell_type": "code",
   "execution_count": 7,
   "metadata": {},
   "outputs": [
    {
     "ename": "KeyboardInterrupt",
     "evalue": "",
     "output_type": "error",
     "traceback": [
      "\u001b[0;31m---------------------------------------------------------------------------\u001b[0m",
      "\u001b[0;31mKeyboardInterrupt\u001b[0m                         Traceback (most recent call last)",
      "Cell \u001b[0;32mIn[7], line 3\u001b[0m\n\u001b[1;32m      1\u001b[0m \u001b[38;5;28;01mimport\u001b[39;00m \u001b[38;5;21;01mpandas\u001b[39;00m \u001b[38;5;28;01mas\u001b[39;00m \u001b[38;5;21;01mpd\u001b[39;00m\n\u001b[1;32m      2\u001b[0m \u001b[38;5;66;03m# train 데이터프레임으로 변환\u001b[39;00m\n\u001b[0;32m----> 3\u001b[0m train_df \u001b[38;5;241m=\u001b[39m \u001b[43mpd\u001b[49m\u001b[38;5;241;43m.\u001b[39;49m\u001b[43mDataFrame\u001b[49m\u001b[43m(\u001b[49m\u001b[43mrag_data\u001b[49m\u001b[43m[\u001b[49m\u001b[38;5;124;43m'\u001b[39;49m\u001b[38;5;124;43mtrain\u001b[39;49m\u001b[38;5;124;43m'\u001b[39;49m\u001b[43m]\u001b[49m\u001b[43m)\u001b[49m\n\u001b[1;32m      5\u001b[0m \u001b[38;5;66;03m# 'title'별로 'context' 모으기\u001b[39;00m\n\u001b[1;32m      6\u001b[0m grouped_data \u001b[38;5;241m=\u001b[39m train_df\u001b[38;5;241m.\u001b[39mgroupby(\u001b[38;5;124m'\u001b[39m\u001b[38;5;124mtitle\u001b[39m\u001b[38;5;124m'\u001b[39m)[\u001b[38;5;124m'\u001b[39m\u001b[38;5;124mcontext\u001b[39m\u001b[38;5;124m'\u001b[39m]\u001b[38;5;241m.\u001b[39mapply(\u001b[38;5;28;01mlambda\u001b[39;00m x: \u001b[38;5;124m'\u001b[39m\u001b[38;5;124m \u001b[39m\u001b[38;5;124m'\u001b[39m\u001b[38;5;241m.\u001b[39mjoin(x))\u001b[38;5;241m.\u001b[39mreset_index()\n",
      "File \u001b[0;32m/opt/conda/lib/python3.10/site-packages/pandas/core/frame.py:843\u001b[0m, in \u001b[0;36mDataFrame.__init__\u001b[0;34m(self, data, index, columns, dtype, copy)\u001b[0m\n\u001b[1;32m    841\u001b[0m         data \u001b[38;5;241m=\u001b[39m np\u001b[38;5;241m.\u001b[39masarray(data)\n\u001b[1;32m    842\u001b[0m     \u001b[38;5;28;01melse\u001b[39;00m:\n\u001b[0;32m--> 843\u001b[0m         data \u001b[38;5;241m=\u001b[39m \u001b[38;5;28;43mlist\u001b[39;49m\u001b[43m(\u001b[49m\u001b[43mdata\u001b[49m\u001b[43m)\u001b[49m\n\u001b[1;32m    844\u001b[0m \u001b[38;5;28;01mif\u001b[39;00m \u001b[38;5;28mlen\u001b[39m(data) \u001b[38;5;241m>\u001b[39m \u001b[38;5;241m0\u001b[39m:\n\u001b[1;32m    845\u001b[0m     \u001b[38;5;28;01mif\u001b[39;00m is_dataclass(data[\u001b[38;5;241m0\u001b[39m]):\n",
      "File \u001b[0;32m/opt/conda/lib/python3.10/site-packages/datasets/arrow_dataset.py:2372\u001b[0m, in \u001b[0;36mDataset.__iter__\u001b[0;34m(self)\u001b[0m\n\u001b[1;32m   2370\u001b[0m         \u001b[38;5;28;01mfor\u001b[39;00m i \u001b[38;5;129;01min\u001b[39;00m \u001b[38;5;28mrange\u001b[39m(pa_subtable\u001b[38;5;241m.\u001b[39mnum_rows):\n\u001b[1;32m   2371\u001b[0m             pa_subtable_ex \u001b[38;5;241m=\u001b[39m pa_subtable\u001b[38;5;241m.\u001b[39mslice(i, \u001b[38;5;241m1\u001b[39m)\n\u001b[0;32m-> 2372\u001b[0m             formatted_output \u001b[38;5;241m=\u001b[39m \u001b[43mformat_table\u001b[49m\u001b[43m(\u001b[49m\n\u001b[1;32m   2373\u001b[0m \u001b[43m                \u001b[49m\u001b[43mpa_subtable_ex\u001b[49m\u001b[43m,\u001b[49m\n\u001b[1;32m   2374\u001b[0m \u001b[43m                \u001b[49m\u001b[38;5;241;43m0\u001b[39;49m\u001b[43m,\u001b[49m\n\u001b[1;32m   2375\u001b[0m \u001b[43m                \u001b[49m\u001b[43mformatter\u001b[49m\u001b[38;5;241;43m=\u001b[39;49m\u001b[43mformatter\u001b[49m\u001b[43m,\u001b[49m\n\u001b[1;32m   2376\u001b[0m \u001b[43m                \u001b[49m\u001b[43mformat_columns\u001b[49m\u001b[38;5;241;43m=\u001b[39;49m\u001b[38;5;28;43mself\u001b[39;49m\u001b[38;5;241;43m.\u001b[39;49m\u001b[43m_format_columns\u001b[49m\u001b[43m,\u001b[49m\n\u001b[1;32m   2377\u001b[0m \u001b[43m                \u001b[49m\u001b[43moutput_all_columns\u001b[49m\u001b[38;5;241;43m=\u001b[39;49m\u001b[38;5;28;43mself\u001b[39;49m\u001b[38;5;241;43m.\u001b[39;49m\u001b[43m_output_all_columns\u001b[49m\u001b[43m,\u001b[49m\n\u001b[1;32m   2378\u001b[0m \u001b[43m            \u001b[49m\u001b[43m)\u001b[49m\n\u001b[1;32m   2379\u001b[0m             \u001b[38;5;28;01myield\u001b[39;00m formatted_output\n\u001b[1;32m   2380\u001b[0m \u001b[38;5;28;01melse\u001b[39;00m:\n",
      "File \u001b[0;32m/opt/conda/lib/python3.10/site-packages/datasets/formatting/formatting.py:639\u001b[0m, in \u001b[0;36mformat_table\u001b[0;34m(table, key, formatter, format_columns, output_all_columns)\u001b[0m\n\u001b[1;32m    637\u001b[0m python_formatter \u001b[38;5;241m=\u001b[39m PythonFormatter(features\u001b[38;5;241m=\u001b[39mformatter\u001b[38;5;241m.\u001b[39mfeatures)\n\u001b[1;32m    638\u001b[0m \u001b[38;5;28;01mif\u001b[39;00m format_columns \u001b[38;5;129;01mis\u001b[39;00m \u001b[38;5;28;01mNone\u001b[39;00m:\n\u001b[0;32m--> 639\u001b[0m     \u001b[38;5;28;01mreturn\u001b[39;00m \u001b[43mformatter\u001b[49m\u001b[43m(\u001b[49m\u001b[43mpa_table\u001b[49m\u001b[43m,\u001b[49m\u001b[43m \u001b[49m\u001b[43mquery_type\u001b[49m\u001b[38;5;241;43m=\u001b[39;49m\u001b[43mquery_type\u001b[49m\u001b[43m)\u001b[49m\n\u001b[1;32m    640\u001b[0m \u001b[38;5;28;01melif\u001b[39;00m query_type \u001b[38;5;241m==\u001b[39m \u001b[38;5;124m\"\u001b[39m\u001b[38;5;124mcolumn\u001b[39m\u001b[38;5;124m\"\u001b[39m:\n\u001b[1;32m    641\u001b[0m     \u001b[38;5;28;01mif\u001b[39;00m key \u001b[38;5;129;01min\u001b[39;00m format_columns:\n",
      "File \u001b[0;32m/opt/conda/lib/python3.10/site-packages/datasets/formatting/formatting.py:403\u001b[0m, in \u001b[0;36mFormatter.__call__\u001b[0;34m(self, pa_table, query_type)\u001b[0m\n\u001b[1;32m    401\u001b[0m \u001b[38;5;28;01mdef\u001b[39;00m \u001b[38;5;21m__call__\u001b[39m(\u001b[38;5;28mself\u001b[39m, pa_table: pa\u001b[38;5;241m.\u001b[39mTable, query_type: \u001b[38;5;28mstr\u001b[39m) \u001b[38;5;241m-\u001b[39m\u001b[38;5;241m>\u001b[39m Union[RowFormat, ColumnFormat, BatchFormat]:\n\u001b[1;32m    402\u001b[0m     \u001b[38;5;28;01mif\u001b[39;00m query_type \u001b[38;5;241m==\u001b[39m \u001b[38;5;124m\"\u001b[39m\u001b[38;5;124mrow\u001b[39m\u001b[38;5;124m\"\u001b[39m:\n\u001b[0;32m--> 403\u001b[0m         \u001b[38;5;28;01mreturn\u001b[39;00m \u001b[38;5;28;43mself\u001b[39;49m\u001b[38;5;241;43m.\u001b[39;49m\u001b[43mformat_row\u001b[49m\u001b[43m(\u001b[49m\u001b[43mpa_table\u001b[49m\u001b[43m)\u001b[49m\n\u001b[1;32m    404\u001b[0m     \u001b[38;5;28;01melif\u001b[39;00m query_type \u001b[38;5;241m==\u001b[39m \u001b[38;5;124m\"\u001b[39m\u001b[38;5;124mcolumn\u001b[39m\u001b[38;5;124m\"\u001b[39m:\n\u001b[1;32m    405\u001b[0m         \u001b[38;5;28;01mreturn\u001b[39;00m \u001b[38;5;28mself\u001b[39m\u001b[38;5;241m.\u001b[39mformat_column(pa_table)\n",
      "File \u001b[0;32m/opt/conda/lib/python3.10/site-packages/datasets/formatting/formatting.py:444\u001b[0m, in \u001b[0;36mPythonFormatter.format_row\u001b[0;34m(self, pa_table)\u001b[0m\n\u001b[1;32m    442\u001b[0m     \u001b[38;5;28;01mreturn\u001b[39;00m LazyRow(pa_table, \u001b[38;5;28mself\u001b[39m)\n\u001b[1;32m    443\u001b[0m row \u001b[38;5;241m=\u001b[39m \u001b[38;5;28mself\u001b[39m\u001b[38;5;241m.\u001b[39mpython_arrow_extractor()\u001b[38;5;241m.\u001b[39mextract_row(pa_table)\n\u001b[0;32m--> 444\u001b[0m row \u001b[38;5;241m=\u001b[39m \u001b[38;5;28;43mself\u001b[39;49m\u001b[38;5;241;43m.\u001b[39;49m\u001b[43mpython_features_decoder\u001b[49m\u001b[38;5;241;43m.\u001b[39;49m\u001b[43mdecode_row\u001b[49m\u001b[43m(\u001b[49m\u001b[43mrow\u001b[49m\u001b[43m)\u001b[49m\n\u001b[1;32m    445\u001b[0m \u001b[38;5;28;01mreturn\u001b[39;00m row\n",
      "File \u001b[0;32m/opt/conda/lib/python3.10/site-packages/datasets/formatting/formatting.py:222\u001b[0m, in \u001b[0;36mPythonFeaturesDecoder.decode_row\u001b[0;34m(self, row)\u001b[0m\n\u001b[1;32m    221\u001b[0m \u001b[38;5;28;01mdef\u001b[39;00m \u001b[38;5;21mdecode_row\u001b[39m(\u001b[38;5;28mself\u001b[39m, row: \u001b[38;5;28mdict\u001b[39m) \u001b[38;5;241m-\u001b[39m\u001b[38;5;241m>\u001b[39m \u001b[38;5;28mdict\u001b[39m:\n\u001b[0;32m--> 222\u001b[0m     \u001b[38;5;28;01mreturn\u001b[39;00m \u001b[38;5;28;43mself\u001b[39;49m\u001b[38;5;241;43m.\u001b[39;49m\u001b[43mfeatures\u001b[49m\u001b[38;5;241;43m.\u001b[39;49m\u001b[43mdecode_example\u001b[49m\u001b[43m(\u001b[49m\u001b[43mrow\u001b[49m\u001b[43m)\u001b[49m \u001b[38;5;28;01mif\u001b[39;00m \u001b[38;5;28mself\u001b[39m\u001b[38;5;241m.\u001b[39mfeatures \u001b[38;5;28;01melse\u001b[39;00m row\n",
      "File \u001b[0;32m/opt/conda/lib/python3.10/site-packages/datasets/features/features.py:2044\u001b[0m, in \u001b[0;36mFeatures.decode_example\u001b[0;34m(self, example, token_per_repo_id)\u001b[0m\n\u001b[1;32m   2030\u001b[0m \u001b[38;5;28;01mdef\u001b[39;00m \u001b[38;5;21mdecode_example\u001b[39m(\u001b[38;5;28mself\u001b[39m, example: \u001b[38;5;28mdict\u001b[39m, token_per_repo_id: Optional[Dict[\u001b[38;5;28mstr\u001b[39m, Union[\u001b[38;5;28mstr\u001b[39m, \u001b[38;5;28mbool\u001b[39m, \u001b[38;5;28;01mNone\u001b[39;00m]]] \u001b[38;5;241m=\u001b[39m \u001b[38;5;28;01mNone\u001b[39;00m):\n\u001b[1;32m   2031\u001b[0m \u001b[38;5;250m    \u001b[39m\u001b[38;5;124;03m\"\"\"Decode example with custom feature decoding.\u001b[39;00m\n\u001b[1;32m   2032\u001b[0m \n\u001b[1;32m   2033\u001b[0m \u001b[38;5;124;03m    Args:\u001b[39;00m\n\u001b[0;32m   (...)\u001b[0m\n\u001b[1;32m   2041\u001b[0m \u001b[38;5;124;03m        `dict[str, Any]`\u001b[39;00m\n\u001b[1;32m   2042\u001b[0m \u001b[38;5;124;03m    \"\"\"\u001b[39;00m\n\u001b[0;32m-> 2044\u001b[0m     \u001b[38;5;28;01mreturn\u001b[39;00m {\n\u001b[1;32m   2045\u001b[0m         column_name: decode_nested_example(feature, value, token_per_repo_id\u001b[38;5;241m=\u001b[39mtoken_per_repo_id)\n\u001b[1;32m   2046\u001b[0m         \u001b[38;5;28;01mif\u001b[39;00m \u001b[38;5;28mself\u001b[39m\u001b[38;5;241m.\u001b[39m_column_requires_decoding[column_name]\n\u001b[1;32m   2047\u001b[0m         \u001b[38;5;28;01melse\u001b[39;00m value\n\u001b[1;32m   2048\u001b[0m         \u001b[38;5;28;01mfor\u001b[39;00m column_name, (feature, value) \u001b[38;5;129;01min\u001b[39;00m zip_dict(\n\u001b[1;32m   2049\u001b[0m             {key: value \u001b[38;5;28;01mfor\u001b[39;00m key, value \u001b[38;5;129;01min\u001b[39;00m \u001b[38;5;28mself\u001b[39m\u001b[38;5;241m.\u001b[39mitems() \u001b[38;5;28;01mif\u001b[39;00m key \u001b[38;5;129;01min\u001b[39;00m example}, example\n\u001b[1;32m   2050\u001b[0m         )\n\u001b[1;32m   2051\u001b[0m     }\n",
      "\u001b[0;31mKeyboardInterrupt\u001b[0m: "
     ]
    }
   ],
   "source": [
    "import pandas as pd\n",
    "# train 데이터프레임으로 변환\n",
    "train_df = pd.DataFrame(rag_data['train'])\n",
    "\n",
    "# 'title'별로 'context' 모으기\n",
    "grouped_data = train_df.groupby('title')['context'].apply(lambda x: ' '.join(x)).reset_index()\n",
    "\n",
    "# 새로운 id 생성: 'korean-corpus/korquad_v1.0_namu_candidates_256' 뒤에 번호를 붙임\n",
    "grouped_data['id'] = 'korean-corpus/korquad_v1.0_namu_candidates_256_' + (grouped_data.index + 1).astype(str)\n",
    "\n",
    "# 필요한 컬럼만 남기기\n",
    "grouped_data = grouped_data[['id', 'title', 'context']]"
   ]
  },
  {
   "cell_type": "code",
   "execution_count": null,
   "metadata": {},
   "outputs": [
    {
     "name": "stdout",
     "output_type": "stream",
     "text": [
      "                                                 id              title  \\\n",
      "0  korean-corpus/korquad_v1.0_namu_candidates_256_1             12국_목록   \n",
      "1  korean-corpus/korquad_v1.0_namu_candidates_256_2        18세기_프랑스_문학   \n",
      "2  korean-corpus/korquad_v1.0_namu_candidates_256_3  1923_잉글랜드_FA컵_결승전   \n",
      "3  korean-corpus/korquad_v1.0_namu_candidates_256_4     1930년_FIFA_월드컵   \n",
      "4  korean-corpus/korquad_v1.0_namu_candidates_256_5       1956년_조지아_시위   \n",
      "\n",
      "                                             context  \n",
      "0  12국 세계의 중앙에 있는 오산 중에 하나인 봉산의 사신목에 황금 난과가 열리면 열...  \n",
      "1  17세기말부터 교회·귀족·왕권 등 전통적인 권위가 쇠퇴함에 따라 이성의 활동이 활발...  \n",
      "2  결국 \"빌리\"(\"Billie\" 혹은 \"Billy\")라는 이름의 말을 몰았던 조지 스...  \n",
      "3  1930년 FIFA 월드컵(영어: 1930 FIFA World Cup, 스페인어: ...  \n",
      "4  1956년 3월 시위(1956년 트빌리시 폭동 또는 3월 9일 대학살로도 알려짐)는...  \n"
     ]
    }
   ],
   "source": [
    "# 데이터프레임 출력 (상위 5개 확인)\n",
    "print(grouped_data.head())"
   ]
  },
  {
   "cell_type": "code",
   "execution_count": null,
   "metadata": {},
   "outputs": [
    {
     "name": "stdout",
     "output_type": "stream",
     "text": [
      "12국 세계의 중앙에 있는 오산 중에 하나인 봉산의 사신목에 황금 난과가 열리면 열달 후 그 난과에서 기린이 태어난다. 태어난 후에는 봉로궁에 거주하며 여괴의 젖과 봉산의 여선들의 보살핌을 받아 자란다. 왕과 계약하기 전까지는 〈봉산공〉(봉산의 주인)으로 불린다. 봉산에 사는 여선들은 기린을 보살펴주기 위해 존재하며 여선 중에서도 벽하현군은 유일하게 기린과 동등한 존재이다. 왕이 없는 기린의 수명은 30년 정도로 (봉래에서는 10년에 해당한다), 드물게 왕을 찾아내지 못한채 천수를 맞이하는 기린도 있다. 하지만 왕을 선택한 후에는 왕이 도를 잃어 〈실도의 병〉에 걸리거나, 모반등 동기로 공격받는 사태가 일어나지 않는 한 왕과 함께 계속 살아갈 수 있다. 기린이 죽으면 왕도 죽기 때문에 기린을 죽인 자는 사형에 처해지기도 한다. 각 나라에 하나씩 존재하는 최고위 신수. 왕기를 의지하여 자신의 주인을 선택한다. 그 뒤 왕과 함께 나라로 돌아가 신하가 되어 곁에서 왕을 돕는다. 기린의 성격은 기본적으로 자국민의 기질을 기준으로, 민의가 구체화 한 것이라고 여겨지고 있다. 성정은 인이며 자비심이 깊다. 싸움을 싫어하며 피의 부정으로 병이 들기도 한다. 자신의 주인 이외에는 결코 머리를 숙이지 않으며 다른 사람에게 머리를 숙이는 것은 절대로 불가능하다. 또한 기린 본래의 힘은 짐승으로 변했을 때 그 뿔에서 나온다고 여겨지며, 사람의 모습일 때는 뿔에 해당하는 이마를 만지는 것을 싫어하는 하늘을 뛰어다닐 수 있고, 12국 세계의 생물 중에서 가장 발이 빠르다고 한다. 과거의 실례로, 준제의 고사가 전해져 내려온다. 명군이자 자비심이 많기로 유명한 재국의 준제는 〈이웃 국가의 백성을 구하기 위해〉왕사를 출병시켰고 누구도 태강에 어긋나는 일이라 여기지 않았다. 하지만 군사가 국경을 넘어간지 얼마 지나지 않아, 왕과 기린이 돌연사를 맞게 된다. 그것이 적면의 죄인 것은 처음에는 아무도 몰랐으나, 다음 왕이 등극했을 때 국새의 국씨가 바뀌어 적면의 죄인 것을 알게 되었다. 이 죄는 군대의 침입 뿐만 아니라 기린이 사령만을 보내는 것도 해당되며, 《달의 그림자 그림자의 바다》에서는 실도의 병을 앓고 있는 코우린이 안까지 향하고 있었다. 그 나라의 왕으로부터 정식적인 요청없이 군사력을 타국으로 지원하는 일은 용서되지 않는다. 원래는 대부분의 나라에서 제도적으로 차별하여 성인이 되어도 군역을 뛸 수 없고, 학교에도 가지 못해 관리도 되지 못하였다. 그러나 그렇게 대하던 나라들은 점차 멸망하였으며, 대국에서는 효종이 제도를 폐지하고 (나라가 혼란스럽기 때문에 철저하게 폐지되지는 않았다.), 경국에서도 요코가 초칙으로 폐지하였기 때문에 호적을 주지않을 정도의 법적 차별이 남아 있는 나라는 교국 뿐이다. 경에서는 반수는 상대부 이상의 관리직에는 등용될 수 없었으나, 요우코가 칙명으로 폐지하였기 때문에 법률상 평등하게 되었지만 반수에 대한 차별은 남아있다. 제도상으로는 반수에 대한 차별이 거의 없게 된 안국의 대학에서도 교수에게 반수 모습으로 수강을 거부당하거나 책을 갉아먹는다고 생각하는 등 사실상 차별은 뿌리깊게 박혀있다. 태어났을 때는 짐승의 모습으로 뿔은 없지만 5세정도 되면 사람의 모습으로 변하게 되며 말도 하기 시작한다. 그 뒤 한동안 모습이 빈번하게 바뀌지만 점차 잦아들고, 뿔이 이마에 생기면 완전한 사람의 모습으로 될 수 있으며 동시에 젖을 떼게 된다. 젖을 떼기 전에는 상처나 피의 부정에 강하다. 기린의 능력의 대부분은 짐승일 때 몸에 붙는다. 짐승일 때는 오산을 자유롭게 뛰어다니며 황해를 돌아 요마를 놀이처럼 절복시키며 지낸다. 사람의 모습에서 짐승의 모습으로 변하는 것을 전변(転変), 반대로 짐승에서 사람의 모습으로 변하는 것을 전화(転化)라고 한다. 봉산에서 태어나고 자란 기린은 짐승의 모습으로 태어나 성장함에 따라 전화를 배운다. 그러나 타이키처럼 12국 외에서 생활이 길어 전변이 어려운 경우가 있다. 성수가 되면 외견 상의 성장은 멈추지만 성수가 되기까지의 기간은 기린마다 각각 다르다.\n"
     ]
    }
   ],
   "source": [
    "print(grouped_data['context'][0])"
   ]
  },
  {
   "cell_type": "code",
   "execution_count": null,
   "metadata": {},
   "outputs": [
    {
     "data": {
      "text/plain": [
       "Dataset({\n",
       "    features: ['id', 'title', 'context'],\n",
       "    num_rows: 1416\n",
       "})"
      ]
     },
     "execution_count": 6,
     "metadata": {},
     "output_type": "execute_result"
    }
   ],
   "source": [
    "from datasets import Dataset\n",
    "\n",
    "new_train_dataset = Dataset.from_pandas(grouped_data)\n",
    "\n",
    "# 결과 확인\n",
    "new_train_dataset"
   ]
  },
  {
   "cell_type": "code",
   "execution_count": null,
   "metadata": {},
   "outputs": [
    {
     "name": "stdout",
     "output_type": "stream",
     "text": [
      "CSV 파일로 저장되었습니다.\n"
     ]
    }
   ],
   "source": [
    "# 'new_train_dataset'을 pandas DataFrame으로 변환\n",
    "new_train_df = new_train_dataset.to_pandas()\n",
    "\n",
    "# CSV 파일로 저장\n",
    "new_train_df.to_csv('grouped_train_dataset.csv', index=False)\n",
    "\n",
    "print(\"CSV 파일로 저장되었습니다.\")"
   ]
  },
  {
   "cell_type": "code",
   "execution_count": null,
   "metadata": {},
   "outputs": [
    {
     "name": "stdout",
     "output_type": "stream",
     "text": [
      "Requirement already satisfied: langchain in /opt/conda/lib/python3.10/site-packages (0.3.7)\n",
      "Collecting langchain_community\n",
      "  Obtaining dependency information for langchain_community from https://files.pythonhosted.org/packages/cc/19/f8af1cdefe326730ae02bd653f7382693153baf0bac7a69537d7811cad5f/langchain_community-0.3.7-py3-none-any.whl.metadata\n",
      "  Downloading langchain_community-0.3.7-py3-none-any.whl.metadata (2.9 kB)\n",
      "Requirement already satisfied: PyYAML>=5.3 in /opt/conda/lib/python3.10/site-packages (from langchain) (6.0)\n",
      "Requirement already satisfied: SQLAlchemy<3,>=1.4 in /opt/conda/lib/python3.10/site-packages (from langchain) (2.0.36)\n",
      "Requirement already satisfied: aiohttp<4.0.0,>=3.8.3 in /opt/conda/lib/python3.10/site-packages (from langchain) (3.10.10)\n",
      "Requirement already satisfied: async-timeout<5.0.0,>=4.0.0 in /opt/conda/lib/python3.10/site-packages (from langchain) (4.0.3)\n",
      "Requirement already satisfied: langchain-core<0.4.0,>=0.3.15 in /opt/conda/lib/python3.10/site-packages (from langchain) (0.3.19)\n",
      "Requirement already satisfied: langchain-text-splitters<0.4.0,>=0.3.0 in /opt/conda/lib/python3.10/site-packages (from langchain) (0.3.2)\n",
      "Requirement already satisfied: langsmith<0.2.0,>=0.1.17 in /opt/conda/lib/python3.10/site-packages (from langchain) (0.1.143)\n",
      "Requirement already satisfied: numpy<2,>=1 in /opt/conda/lib/python3.10/site-packages (from langchain) (1.26.0)\n",
      "Requirement already satisfied: pydantic<3.0.0,>=2.7.4 in /opt/conda/lib/python3.10/site-packages (from langchain) (2.9.2)\n",
      "Requirement already satisfied: requests<3,>=2 in /opt/conda/lib/python3.10/site-packages (from langchain) (2.32.3)\n",
      "Requirement already satisfied: tenacity!=8.4.0,<10,>=8.1.0 in /opt/conda/lib/python3.10/site-packages (from langchain) (9.0.0)\n",
      "Collecting SQLAlchemy<3,>=1.4 (from langchain)\n",
      "  Obtaining dependency information for SQLAlchemy<3,>=1.4 from https://files.pythonhosted.org/packages/7e/ff/a1eacd78b31e52a5073e9924fb4722ecc2a72f093ca8181ed81fc61aed2e/SQLAlchemy-2.0.35-cp310-cp310-manylinux_2_17_x86_64.manylinux2014_x86_64.whl.metadata\n",
      "  Downloading SQLAlchemy-2.0.35-cp310-cp310-manylinux_2_17_x86_64.manylinux2014_x86_64.whl.metadata (9.6 kB)\n",
      "Collecting dataclasses-json<0.7,>=0.5.7 (from langchain_community)\n",
      "  Obtaining dependency information for dataclasses-json<0.7,>=0.5.7 from https://files.pythonhosted.org/packages/c3/be/d0d44e092656fe7a06b55e6103cbce807cdbdee17884a5367c68c9860853/dataclasses_json-0.6.7-py3-none-any.whl.metadata\n",
      "  Downloading dataclasses_json-0.6.7-py3-none-any.whl.metadata (25 kB)\n",
      "Requirement already satisfied: httpx-sse<0.5.0,>=0.4.0 in /opt/conda/lib/python3.10/site-packages (from langchain_community) (0.4.0)\n",
      "Collecting pydantic-settings<3.0.0,>=2.4.0 (from langchain_community)\n",
      "  Obtaining dependency information for pydantic-settings<3.0.0,>=2.4.0 from https://files.pythonhosted.org/packages/5e/f9/ff95fd7d760af42f647ea87f9b8a383d891cdb5e5dbd4613edaeb094252a/pydantic_settings-2.6.1-py3-none-any.whl.metadata\n",
      "  Downloading pydantic_settings-2.6.1-py3-none-any.whl.metadata (3.5 kB)\n",
      "Requirement already satisfied: aiohappyeyeballs>=2.3.0 in /opt/conda/lib/python3.10/site-packages (from aiohttp<4.0.0,>=3.8.3->langchain) (2.4.3)\n",
      "Requirement already satisfied: aiosignal>=1.1.2 in /opt/conda/lib/python3.10/site-packages (from aiohttp<4.0.0,>=3.8.3->langchain) (1.3.1)\n",
      "Requirement already satisfied: attrs>=17.3.0 in /opt/conda/lib/python3.10/site-packages (from aiohttp<4.0.0,>=3.8.3->langchain) (23.1.0)\n",
      "Requirement already satisfied: frozenlist>=1.1.1 in /opt/conda/lib/python3.10/site-packages (from aiohttp<4.0.0,>=3.8.3->langchain) (1.5.0)\n",
      "Requirement already satisfied: multidict<7.0,>=4.5 in /opt/conda/lib/python3.10/site-packages (from aiohttp<4.0.0,>=3.8.3->langchain) (6.1.0)\n",
      "Requirement already satisfied: yarl<2.0,>=1.12.0 in /opt/conda/lib/python3.10/site-packages (from aiohttp<4.0.0,>=3.8.3->langchain) (1.17.1)\n",
      "Collecting marshmallow<4.0.0,>=3.18.0 (from dataclasses-json<0.7,>=0.5.7->langchain_community)\n",
      "  Obtaining dependency information for marshmallow<4.0.0,>=3.18.0 from https://files.pythonhosted.org/packages/ac/a7/a78ff54e67ef92a3d12126b98eb98ab8abab3de4a8c46d240c87e514d6bb/marshmallow-3.23.1-py3-none-any.whl.metadata\n",
      "  Downloading marshmallow-3.23.1-py3-none-any.whl.metadata (7.5 kB)\n",
      "Collecting typing-inspect<1,>=0.4.0 (from dataclasses-json<0.7,>=0.5.7->langchain_community)\n",
      "  Obtaining dependency information for typing-inspect<1,>=0.4.0 from https://files.pythonhosted.org/packages/65/f3/107a22063bf27bdccf2024833d3445f4eea42b2e598abfbd46f6a63b6cb0/typing_inspect-0.9.0-py3-none-any.whl.metadata\n",
      "  Downloading typing_inspect-0.9.0-py3-none-any.whl.metadata (1.5 kB)\n",
      "Requirement already satisfied: jsonpatch<2.0,>=1.33 in /opt/conda/lib/python3.10/site-packages (from langchain-core<0.4.0,>=0.3.15->langchain) (1.33)\n",
      "Requirement already satisfied: packaging<25,>=23.2 in /opt/conda/lib/python3.10/site-packages (from langchain-core<0.4.0,>=0.3.15->langchain) (24.2)\n",
      "Requirement already satisfied: typing-extensions>=4.7 in /opt/conda/lib/python3.10/site-packages (from langchain-core<0.4.0,>=0.3.15->langchain) (4.12.2)\n",
      "Requirement already satisfied: httpx<1,>=0.23.0 in /opt/conda/lib/python3.10/site-packages (from langsmith<0.2.0,>=0.1.17->langchain) (0.27.2)\n",
      "Requirement already satisfied: orjson<4.0.0,>=3.9.14 in /opt/conda/lib/python3.10/site-packages (from langsmith<0.2.0,>=0.1.17->langchain) (3.10.11)\n",
      "Requirement already satisfied: requests-toolbelt<2.0.0,>=1.0.0 in /opt/conda/lib/python3.10/site-packages (from langsmith<0.2.0,>=0.1.17->langchain) (1.0.0)\n",
      "Requirement already satisfied: annotated-types>=0.6.0 in /opt/conda/lib/python3.10/site-packages (from pydantic<3.0.0,>=2.7.4->langchain) (0.7.0)\n",
      "Requirement already satisfied: pydantic-core==2.23.4 in /opt/conda/lib/python3.10/site-packages (from pydantic<3.0.0,>=2.7.4->langchain) (2.23.4)\n",
      "Requirement already satisfied: python-dotenv>=0.21.0 in /opt/conda/lib/python3.10/site-packages (from pydantic-settings<3.0.0,>=2.4.0->langchain_community) (1.0.1)\n",
      "Requirement already satisfied: charset-normalizer<4,>=2 in /opt/conda/lib/python3.10/site-packages (from requests<3,>=2->langchain) (3.4.0)\n",
      "Requirement already satisfied: idna<4,>=2.5 in /opt/conda/lib/python3.10/site-packages (from requests<3,>=2->langchain) (3.4)\n",
      "Requirement already satisfied: urllib3<3,>=1.21.1 in /opt/conda/lib/python3.10/site-packages (from requests<3,>=2->langchain) (2.2.3)\n",
      "Requirement already satisfied: certifi>=2017.4.17 in /opt/conda/lib/python3.10/site-packages (from requests<3,>=2->langchain) (2023.7.22)\n",
      "Requirement already satisfied: greenlet!=0.4.17 in /opt/conda/lib/python3.10/site-packages (from SQLAlchemy<3,>=1.4->langchain) (3.1.1)\n",
      "Requirement already satisfied: anyio in /opt/conda/lib/python3.10/site-packages (from httpx<1,>=0.23.0->langsmith<0.2.0,>=0.1.17->langchain) (4.6.2.post1)\n",
      "Requirement already satisfied: httpcore==1.* in /opt/conda/lib/python3.10/site-packages (from httpx<1,>=0.23.0->langsmith<0.2.0,>=0.1.17->langchain) (1.0.7)\n",
      "Requirement already satisfied: sniffio in /opt/conda/lib/python3.10/site-packages (from httpx<1,>=0.23.0->langsmith<0.2.0,>=0.1.17->langchain) (1.3.1)\n",
      "Requirement already satisfied: h11<0.15,>=0.13 in /opt/conda/lib/python3.10/site-packages (from httpcore==1.*->httpx<1,>=0.23.0->langsmith<0.2.0,>=0.1.17->langchain) (0.14.0)\n",
      "Requirement already satisfied: jsonpointer>=1.9 in /opt/conda/lib/python3.10/site-packages (from jsonpatch<2.0,>=1.33->langchain-core<0.4.0,>=0.3.15->langchain) (2.1)\n",
      "Collecting mypy-extensions>=0.3.0 (from typing-inspect<1,>=0.4.0->dataclasses-json<0.7,>=0.5.7->langchain_community)\n",
      "  Obtaining dependency information for mypy-extensions>=0.3.0 from https://files.pythonhosted.org/packages/2a/e2/5d3f6ada4297caebe1a2add3b126fe800c96f56dbe5d1988a2cbe0b267aa/mypy_extensions-1.0.0-py3-none-any.whl.metadata\n",
      "  Downloading mypy_extensions-1.0.0-py3-none-any.whl.metadata (1.1 kB)\n",
      "Requirement already satisfied: propcache>=0.2.0 in /opt/conda/lib/python3.10/site-packages (from yarl<2.0,>=1.12.0->aiohttp<4.0.0,>=3.8.3->langchain) (0.2.0)\n",
      "Requirement already satisfied: exceptiongroup>=1.0.2 in /opt/conda/lib/python3.10/site-packages (from anyio->httpx<1,>=0.23.0->langsmith<0.2.0,>=0.1.17->langchain) (1.0.4)\n",
      "Downloading langchain_community-0.3.7-py3-none-any.whl (2.4 MB)\n",
      "\u001b[2K   \u001b[90m━━━━━━━━━━━━━━━━━━━━━━━━━━━━━━━━━━━━━━━━\u001b[0m \u001b[32m2.4/2.4 MB\u001b[0m \u001b[31m3.3 MB/s\u001b[0m eta \u001b[36m0:00:00\u001b[0m00:01\u001b[0m00:01\u001b[0m0m\n",
      "\u001b[?25hDownloading dataclasses_json-0.6.7-py3-none-any.whl (28 kB)\n",
      "Downloading pydantic_settings-2.6.1-py3-none-any.whl (28 kB)\n",
      "Downloading SQLAlchemy-2.0.35-cp310-cp310-manylinux_2_17_x86_64.manylinux2014_x86_64.whl (3.1 MB)\n",
      "\u001b[2K   \u001b[90m━━━━━━━━━━━━━━━━━━━━━━━━━━━━━━━━━━━━━━━━\u001b[0m \u001b[32m3.1/3.1 MB\u001b[0m \u001b[31m16.6 MB/s\u001b[0m eta \u001b[36m0:00:00\u001b[0m00:01\u001b[0m00:01\u001b[0m\n",
      "\u001b[?25hDownloading marshmallow-3.23.1-py3-none-any.whl (49 kB)\n",
      "\u001b[2K   \u001b[90m━━━━━━━━━━━━━━━━━━━━━━━━━━━━━━━━━━━━━━━━\u001b[0m \u001b[32m49.5/49.5 kB\u001b[0m \u001b[31m7.2 MB/s\u001b[0m eta \u001b[36m0:00:00\u001b[0m\n",
      "\u001b[?25hDownloading typing_inspect-0.9.0-py3-none-any.whl (8.8 kB)\n",
      "Downloading mypy_extensions-1.0.0-py3-none-any.whl (4.7 kB)\n",
      "Installing collected packages: SQLAlchemy, mypy-extensions, marshmallow, typing-inspect, pydantic-settings, dataclasses-json, langchain_community\n",
      "  Attempting uninstall: SQLAlchemy\n",
      "    Found existing installation: SQLAlchemy 2.0.36\n",
      "    Uninstalling SQLAlchemy-2.0.36:\n",
      "      Successfully uninstalled SQLAlchemy-2.0.36\n",
      "Successfully installed SQLAlchemy-2.0.35 dataclasses-json-0.6.7 langchain_community-0.3.7 marshmallow-3.23.1 mypy-extensions-1.0.0 pydantic-settings-2.6.1 typing-inspect-0.9.0\n",
      "\u001b[33mWARNING: Running pip as the 'root' user can result in broken permissions and conflicting behaviour with the system package manager. It is recommended to use a virtual environment instead: https://pip.pypa.io/warnings/venv\u001b[0m\u001b[33m\n",
      "\u001b[0m"
     ]
    }
   ],
   "source": [
    "! pip install langchain langchain_community"
   ]
  },
  {
   "cell_type": "code",
   "execution_count": null,
   "metadata": {},
   "outputs": [
    {
     "name": "stdout",
     "output_type": "stream",
     "text": [
      "1416\n"
     ]
    }
   ],
   "source": [
    "from langchain_community.document_loaders.csv_loader import CSVLoader\n",
    "from langchain.storage import LocalFileStore\n",
    "\n",
    "loader = CSVLoader(file_path='/data/ephemeral/home/level2-nlp-generationfornlp-nlp-04-lv3/RAG/grouped_train_dataset.csv', encoding='utf-8')\n",
    "docs = loader.load()\n",
    "print(len(docs))\n",
    "cache_dir = LocalFileStore(\"./.cache/\")"
   ]
  },
  {
   "cell_type": "code",
   "execution_count": null,
   "metadata": {},
   "outputs": [
    {
     "name": "stdout",
     "output_type": "stream",
     "text": [
      "page_content='id: korean-corpus/korquad_v1.0_namu_candidates_256_1\n",
      "title: 12국_목록\n",
      "context: 12국 세계의 중앙에 있는 오산 중에 하나인 봉산의 사신목에 황금 난과가 열리면 열달 후 그 난과에서 기린이 태어난다. 태어난 후에는 봉로궁에 거주하며 여괴의 젖과 봉산의 여선들의 보살핌을 받아 자란다. 왕과 계약하기 전까지는 〈봉산공〉(봉산의 주인)으로 불린다. 봉산에 사는 여선들은 기린을 보살펴주기 위해 존재하며 여선 중에서도 벽하현군은 유일하게 기린과 동등한 존재이다. 왕이 없는 기린의 수명은 30년 정도로 (봉래에서는 10년에 해당한다), 드물게 왕을 찾아내지 못한채 천수를 맞이하는 기린도 있다. 하지만 왕을 선택한 후에는 왕이 도를 잃어 〈실도의 병〉에 걸리거나, 모반등 동기로 공격받는 사태가 일어나지 않는 한 왕과 함께 계속 살아갈 수 있다. 기린이 죽으면 왕도 죽기 때문에 기린을 죽인 자는 사형에 처해지기도 한다. 각 나라에 하나씩 존재하는 최고위 신수. 왕기를 의지하여 자신의 주인을 선택한다. 그 뒤 왕과 함께 나라로 돌아가 신하가 되어 곁에서 왕을 돕는다. 기린의 성격은 기본적으로 자국민의 기질을 기준으로, 민의가 구체화 한 것이라고 여겨지고 있다. 성정은 인이며 자비심이 깊다. 싸움을 싫어하며 피의 부정으로 병이 들기도 한다. 자신의 주인 이외에는 결코 머리를 숙이지 않으며 다른 사람에게 머리를 숙이는 것은 절대로 불가능하다. 또한 기린 본래의 힘은 짐승으로 변했을 때 그 뿔에서 나온다고 여겨지며, 사람의 모습일 때는 뿔에 해당하는 이마를 만지는 것을 싫어하는 하늘을 뛰어다닐 수 있고, 12국 세계의 생물 중에서 가장 발이 빠르다고 한다. 과거의 실례로, 준제의 고사가 전해져 내려온다. 명군이자 자비심이 많기로 유명한 재국의 준제는 〈이웃 국가의 백성을 구하기 위해〉왕사를 출병시켰고 누구도 태강에 어긋나는 일이라 여기지 않았다. 하지만 군사가 국경을 넘어간지 얼마 지나지 않아, 왕과 기린이 돌연사를 맞게 된다. 그것이 적면의 죄인 것은 처음에는 아무도 몰랐으나, 다음 왕이 등극했을 때 국새의 국씨가 바뀌어 적면의 죄인 것을 알게 되었다. 이 죄는 군대의 침입 뿐만 아니라 기린이 사령만을 보내는 것도 해당되며, 《달의 그림자 그림자의 바다》에서는 실도의 병을 앓고 있는 코우린이 안까지 향하고 있었다. 그 나라의 왕으로부터 정식적인 요청없이 군사력을 타국으로 지원하는 일은 용서되지 않는다. 원래는 대부분의 나라에서 제도적으로 차별하여 성인이 되어도 군역을 뛸 수 없고, 학교에도 가지 못해 관리도 되지 못하였다. 그러나 그렇게 대하던 나라들은 점차 멸망하였으며, 대국에서는 효종이 제도를 폐지하고 (나라가 혼란스럽기 때문에 철저하게 폐지되지는 않았다.), 경국에서도 요코가 초칙으로 폐지하였기 때문에 호적을 주지않을 정도의 법적 차별이 남아 있는 나라는 교국 뿐이다. 경에서는 반수는 상대부 이상의 관리직에는 등용될 수 없었으나, 요우코가 칙명으로 폐지하였기 때문에 법률상 평등하게 되었지만 반수에 대한 차별은 남아있다. 제도상으로는 반수에 대한 차별이 거의 없게 된 안국의 대학에서도 교수에게 반수 모습으로 수강을 거부당하거나 책을 갉아먹는다고 생각하는 등 사실상 차별은 뿌리깊게 박혀있다. 태어났을 때는 짐승의 모습으로 뿔은 없지만 5세정도 되면 사람의 모습으로 변하게 되며 말도 하기 시작한다. 그 뒤 한동안 모습이 빈번하게 바뀌지만 점차 잦아들고, 뿔이 이마에 생기면 완전한 사람의 모습으로 될 수 있으며 동시에 젖을 떼게 된다. 젖을 떼기 전에는 상처나 피의 부정에 강하다. 기린의 능력의 대부분은 짐승일 때 몸에 붙는다. 짐승일 때는 오산을 자유롭게 뛰어다니며 황해를 돌아 요마를 놀이처럼 절복시키며 지낸다. 사람의 모습에서 짐승의 모습으로 변하는 것을 전변(転変), 반대로 짐승에서 사람의 모습으로 변하는 것을 전화(転化)라고 한다. 봉산에서 태어나고 자란 기린은 짐승의 모습으로 태어나 성장함에 따라 전화를 배운다. 그러나 타이키처럼 12국 외에서 생활이 길어 전변이 어려운 경우가 있다. 성수가 되면 외견 상의 성장은 멈추지만 성수가 되기까지의 기간은 기린마다 각각 다르다.' metadata={'source': '/data/ephemeral/home/level2-nlp-generationfornlp-nlp-04-lv3/RAG/grouped_train_dataset.csv', 'row': 0}\n"
     ]
    }
   ],
   "source": [
    "print(docs[0])"
   ]
  },
  {
   "cell_type": "code",
   "execution_count": null,
   "metadata": {},
   "outputs": [
    {
     "name": "stdout",
     "output_type": "stream",
     "text": [
      "Content: id: korean-corpus/korquad_v1.0_namu_candidates_256_1\n",
      "title: 12국_목록\n",
      "context: 12국 세계의 중앙에 있는 오산 중에 하나인 봉산의 사신목에 황금 난과가 열리면 열달 후 그 난과에서 기린이 태어난다. 태어난 후에는 봉로궁에 거주하며 여괴의 젖과 봉산의 여선들의 보살핌을 받아 자란다. 왕과 계약하기 전까지는 〈봉산공〉(봉산의 주인)으로 불린다. 봉산에 사는 여선들은 기린을 보살펴주기 위해 존재하며 여선 중에서도 벽하현군은 유일하게 기린과 동등한 존재이다. 왕이 없는 기린의 수명은 30년 정도로 (봉래에서는 10년에 해당한다), 드물게 왕을 찾아내지 못한채 천수를 맞이하는 기린도 있다. 하지만 왕을 선택한 후에는 왕이 도를 잃어 〈실도의 병〉에 걸리거나, 모반등 동기로 공격받는 사태가 일어나지 않는 한 왕과 함께 계속 살아갈 수 있다. 기린이 죽으면 왕도 죽기 때문에 기린을 죽인 자는 사형에 처해지기도 한다. 각 나라에 하나씩 존재하는 최고위 신수. 왕기를 의지하여 자신의 주인을 선택한다. 그 뒤 왕과 함께 나라로 돌아가 신하가 되어 곁에서 왕을 돕는다. 기린의 성격은 기본적으로 자국민의 기질을 기준으로, 민의가 구체화 한 것이라고 여겨지고 있다. 성정은 인이며 자비심이 깊다. 싸움을 싫어하며 피의 부정으로 병이 들기도 한다. 자신의 주인 이외에는 결코 머리를 숙이지 않으며 다른 사람에게 머리를 숙이는 것은 절대로 불가능하다. 또한 기린 본래의 힘은 짐승으로 변했을 때 그 뿔에서 나온다고 여겨지며, 사람의 모습일 때는 뿔에 해당하는 이마를 만지는 것을 싫어하는 하늘을 뛰어다닐 수 있고, 12국 세계의 생물 중에서 가장 발이 빠르다고 한다. 과거의 실례로, 준제의 고사가 전해져 내려온다. 명군이자 자비심이 많기로 유명한 재국의 준제는 〈이웃 국가의 백성을 구하기 위해〉왕사를 출병시켰고 누구도 태강에 어긋나는 일이라 여기지 않았다. 하지만 군사가 국경을 넘어간지 얼마 지나지 않아, 왕과 기린이 돌연사를 맞게 된다. 그것이 적면의 죄인 것은 처음에는 아무도 몰랐으나, 다음 왕이 등극했을 때 국새의 국씨가 바뀌어 적면의 죄인 것을 알게 되었다. 이 죄는 군대의 침입 뿐만 아니라 기린이 사령만을 보내는 것도 해당되며, 《달의 그림자 그림자의 바다》에서는 실도의 병을 앓고 있는 코우린이 안까지 향하고 있었다. 그 나라의 왕으로부터 정식적인 요청없이 군사력을 타국으로 지원하는 일은 용서되지 않는다. 원래는 대부분의 나라에서 제도적으로 차별하여 성인이 되어도 군역을 뛸 수 없고, 학교에도 가지 못해 관리도 되지 못하였다. 그러나 그렇게 대하던 나라들은 점차 멸망하였으며, 대국에서는 효종이 제도를 폐지하고 (나라가 혼란스럽기 때문에 철저하게 폐지되지는 않았다.), 경국에서도 요코가 초칙으로 폐지하였기 때문에 호적을 주지않을 정도의 법적 차별이 남아 있는 나라는 교국 뿐이다. 경에서는 반수는 상대부 이상의 관리직에는 등용될 수 없었으나, 요우코가 칙명으로 폐지하였기 때문에 법률상 평등하게 되었지만 반수에 대한 차별은 남아있다. 제도상으로는 반수에 대한 차별이 거의 없게 된 안국의 대학에서도 교수에게 반수 모습으로 수강을 거부당하거나 책을 갉아먹는다고 생각하는 등 사실상 차별은 뿌리깊게 박혀있다. 태어났을 때는 짐승의 모습으로 뿔은 없지만 5세정도 되면 사람의 모습으로 변하게 되며 말도 하기 시작한다. 그 뒤 한동안 모습이 빈번하게 바뀌지만 점차 잦아들고, 뿔이 이마에 생기면 완전한 사람의 모습으로 될 수 있으며 동시에 젖을 떼게 된다. 젖을 떼기 전에는 상처나 피의 부정에 강하다. 기린의 능력의 대부분은 짐승일 때 몸에 붙는다. 짐승일 때는 오산을 자유롭게 뛰어다니며 황해를 돌아 요마를 놀이처럼 절복시키며 지낸다. 사람의 모습에서 짐승의 모습으로 변하는 것을 전변(転変), 반대로 짐승에서 사람의 모습으로 변하는 것을 전화(転化)라고 한다. 봉산에서 태어나고 자란 기린은 짐승의 모습으로 태어나 성장함에 따라 전화를 배운다. 그러나 타이키처럼 12국 외에서 생활이 길어 전변이 어려운 경우가 있다. 성수가 되면 외견 상의 성장은 멈추지만 성수가 되기까지의 기간은 기린마다 각각 다르다.\n",
      "Metadata: {'source': '/data/ephemeral/home/level2-nlp-generationfornlp-nlp-04-lv3/RAG/grouped_train_dataset.csv', 'row': 0}\n",
      "Content: id: korean-corpus/korquad_v1.0_namu_candidates_256_2\n",
      "title: 18세기_프랑스_문학\n",
      "context: 17세기말부터 교회·귀족·왕권 등 전통적인 권위가 쇠퇴함에 따라 이성의 활동이 활발해졌는데, 먼저 이성은 기존 질서의 핵심과도 같았던 신앙의 원리를 쓰러뜨리려고 했다. 이러한 합리주의적 비판 작업은 두 선구자에 의해 이루어졌다. 퐁트넬은 〈신탁의 역사〉에서 \"이성에 의하지 않고서는 아무것도 믿어서는 안 된다\"고 했고, 피에르 벨(1647~1706)은 〈역사와 비평의 사전 Dictionnaire historique et critique〉(1697)으로 합리주의를 발전시켰다. 계몽시대 최초의 위대한 철학자 몽테스키외(1689~1755)는 〈페르시아인의 편지 Lettres persanes〉(1721)에서 프랑스의 여러 가지 제도와 풍습을 풍자하고 비판했다. 그의 〈로마인의 위대함과 그 쇠락의 원인에 관한 고찰 Considérations sur les causes de la grandeur des Romains et de leur décadence〉(1734)은 합리적이고 과학적인 역사의 기초를 세웠으며, 〈법의 정신 De l'esprit des lois〉(1748)은 삼권분립이라는 영국의 헌법 이론을 소개함으로써 전제정치를 뒤흔들어 놓았다. 18세기 연극에는 '드라마'(le drame)라는 새로운 장르가 태어났다. 관객의 감정에 변화가 생겨 순수한 웃음 대신 감동을 좋아하게 되었는데 이 새로운 취미를 만족시키기 위해 희극은 진지해지고 '눈물을 자아내는 희극'(comédies larmoyantes)으로 바뀌어, 특수한 신분과 가정의 고민을 다루는 드라마가 된 것이다(감상적 희극). 드라마의 이론은 디드로의 〈사생아에 관한 대담 Entretion sur le fils naturel〉(1757)에 의해 정립되었으며, 그 예로는 니벨 드 라 쇼세(1691~1754)의 〈유행의 편견 Préjugé à la mode〉(1735) 등이 있으나, 미셸 장 스덴(1719~97)이 쓴 〈자신도 그런 줄 모르는 철학자 Le Philosophe sans le savoir〉(1765)가 가장 훌륭한 드라마로 평가되고 있다. 볼테르(1694~1778)는 시인·극작가·역사가·철학자·소설가로서 60년간 프랑스의 지적 지도자 역할을 했다. 그는 〈철학 서간 Lettres philosophiques〉(1734)에서 영국을 정치적·종교적·철학적인 자유국가로 소개했는데, 이는 전제주의와 가톨릭교에 대한 최초의 폭탄과도 같은 것이었다. 그는 훗날 〈신앙자유론 Traité sur la tolérance〉(1763)·〈철학사전 Dictionnaire philosophique〉(1764)에서 더 직접적으로 가톨릭 교회를 공격했다. 또한 〈자디그 Zadig〉(1747)·〈캉디드 Candide〉(1759)·〈랭제뉘 L'lngénu〉(1767) 등과 같은 철학적 소설에서는 사회의 불의, 형이상학적 낙관주의, 정치의 부패 등을 고발했다.\n",
      "Metadata: {'source': '/data/ephemeral/home/level2-nlp-generationfornlp-nlp-04-lv3/RAG/grouped_train_dataset.csv', 'row': 1}\n",
      "Content: id: korean-corpus/korquad_v1.0_namu_candidates_256_3\n",
      "title: 1923_잉글랜드_FA컵_결승전\n",
      "context: 결국 \"빌리\"(\"Billie\" 혹은 \"Billy\")라는 이름의 말을 몰았던 조지 스코리 순경을 포함한 기마 경찰관들이 선수들이 경기하는 피치 위를 정리하기 위해 투입되었다. 스코리 순경은 당일 근무가 아니었으나 경기장 안의 인파가 점점 많아지면서 긴급 지원 요청을 받고 경기장에 투입되었다. 빌리라는 말은 사실 회색이었으나, 흑백으로 나오던 당시 시대의 뉴스 자료 화면으로 인해 하얀 색으로 보였다. 가끔 관심을 끌었던 것과는 다르게 다른 말들도 경기장에 투입되었지만, 뉴스 자료 화면에서 가장 눈에 띄는 그 하얀 말이 그 날의 상징이 되었다. 관련자들은 그 경기는 스코리 순경이 없었다면 결코 열렸을 수 없었을 것이라고 훗날 밝히기도 했다. 스코리가 몇 년 후 BBC와의 인터뷰에서 그가 취한 행동에 대해 질문을 받자, 그는 이렇게 대답했다. 경기가 다시 시작되고 얼마 지나지 않아 웨스트 햄의 딕 리차즈는 볼턴 수비수 두 명을 따돌리고 슛을 시도했다. 볼턴의 골키퍼 딕 핌이 그 슛을 잡지 못하고 놓쳤으나 공이 골라인을 넘기 전에 발로 차서 걷어내어 실점은 허용하지 않았다. 볼턴은 위기를 넘기고 다시 경기를 지배해 나가기 시작했지만 볼턴은 웨스트 햄의 풀백 빌리 헨더슨의 날카로운 공격을 막기 위한 전술적 준비만이 되어있던 상태였다. 그러나 볼턴은 웨스트 햄이 공격할 때 5명이나 하프백으로 전환하는 강력한 수비진을 빠르게 구축하는 전략을 사용해 대응했다. 이 전술은 웨스트 햄의 공격을 압박하며 무력화시켰고 볼턴의 계획을 완성시키는데 큰 역할을 했으며, 결국 전반전은 1:0으로 볼턴이 리드하며 끝났다. 피치를 둘러싼 관중들 때문에 락커룸으로 들어갈 수 없었던 선수들은 대신 후반전이 시작하기 전까지 5분간 피치에 남아있었다. 볼턴 원더러스와 웨스트 햄 유나이티드는 각각 잉글랜드 1부 리그와 2부 리그에 속해있었지만 두 팀 모두 제일 낮은 라운드인 1라운드부터 시작했다. 볼턴은 1923년 전까지 1894년, 1904년의 2번의 FA컵 결승전 진출이 있었지만, 웨스트 햄은 1919년이 돼서야 풋볼 리그에 참가했기 때문에 여태껏 8강 이상 진출한 적이 없었다. 볼턴은 1라운드에서 3부 리그에 속한 노리치 시티와의 원정 경기에서 승리를 거뒀는데, 이 승리는 1904-05년 시즌에 2라운드에서 맨체스터 시티를 상대로 원정 승리를 거둔 이후로 첫 원정 승리였다. 2라운드에서 리즈 유나이티드를 홈에서 꺾은 볼턴은 볼턴은 3라운드에서 1922년 FA컵에서 우승을 차지했으며 1부 리그 최고의 팀 중 하나인 허더즈필드 타운을 만났다. 허더즈필드의 리즈 로드 경기장에서의 원정 경기는 무승부로 끝났는데, FA컵 규정상 재경기를 치렀고, 볼턴이 홈에서 1:0으로 승리를 거뒀다. 4라운드에서 볼턴은 찰턴 애슬레틱을 상대로 1:0의 스코어를 다시 기록하며 준결승전에 올랐고, 맨체스터 유나이티드의 홈구장인 올드 트래퍼드에서 치뤄진 준결승전에서도 셰필드 유나이티드를 1:0으로 꺾었다. 준결승전 입장표 가격은 굉장히 비쌌지만 72,000명의 관중들이 경기장을 찾아 FA컵 준결승 최다 관중 기록을 세웠다. 한편 3라운드 부터 모든 경기에서 한 골씩 터뜨려 모두 1:0 승리를 이끈 데이비드 잭은 혼자의 힘으로 팀을 결승전으로 이끌었다는 명성을 얻게 된다. 볼턴의 수비 중심 전술과 달리, 웨스트 햄은 대다수 팬들이 좋아하는 빠른 움직임과 공격적인 플레이를 선보였다. 런던을 연고지로 삼고 있는 웨스트 햄은 1라운드에서 2부 리그 소속인 헐 시티를 3:2로 격파했다. 2라운드에서 3부 남부 리그의 브라이턴 앤 호브 앨비언을 맞아 무승부를 기록한 웨스트 햄은 재경기에서 1:0으로 승리하고 다음 라운드에 진출했다. 웨스트 햄은 3라운드에서 3부 남부 리그의 또다른 팀 플리머스 아가일을 쉽게 꺾고 4라운드에 진출했지만, 4라운드에서는 까다로운 상대인 사우샘프턴을 만나게 되었다. 웨스트 햄 홈구장 불린 그라운드에서 펼쳐진 첫 경기는 1:1 무승부로 끝났고, 사우샘프턴의 델 경기장에서 열린 재경기도 무승부로 종료되었다. 두 번째 재경기는 중립 경기장인 아스톤 빌라의 홈구장, 버밍엄의 빌라 파크에서 열렸고, 웨스트 햄이 빌리 브라운의 결승골에 힘입어 사우샘스턴을 1:0으로 꺾었다. 빌리 브라운은 70분 경에 \"절묘한 프리킥\"으로 사우샘프턴 골키퍼 허버트 락을 꼼짝 못하게 만들며 결승골을 뽑아내며 팀의 준결승전 진출을 이끌었다. 천신만고 끝에 첼시의 홈구장인 스탬퍼드 브리지에서 열리는 준결승전에 진출한 웨스트 햄은 더비 카운티를 맞아 5:2 대승을 거두며 결승전에 진출했다. 빌리 브라운이 2골을 터리는 활약을 선보였고, 빌리 무어도 2골을 터뜨려 팀의 승리를 이끌었다. 웨스트 햄이 웸블리에서 열리는 결승전까지 올라가면서 만난 팀들은 모두 2부 리그 이하의 팀들이었다. 그렇게해서 웨스트 햄은 잉글랜드에서 리그 시스템을 운영하기 시작한 이래에 한 번도 최상위리그에 속한 팀들과 붙지 않고 FA컵 결승전에 진출한 첫 팀이 되었다. 양 팀 모두 그 당시에 가장 전형적인 포메이션을 들고 나왔는데, 전술의 기본 형태는 2명의 풀백이 뒤에 위치하고 한 명의 센터 하프와 두 명의 윙 하프로 구성된 3명의 하프백이 그 앞에 서서 수비를 담당하고 마지막으로 2명의 아웃사이드 포워드, 두 명의 인사이드 포워드, 그리고 한 명의 센터 포워드로 구성된 5명의 포워드가 공격을 맡는 것이다. 웨스트 햄은 두 빠른 아웃사이드 포워드인 딕 리차즈와 지미 러펠을 중심으로 하는 전략을 구성했으나 볼턴은 시작하자마자 그 두 선수를 잘 움직이지 못하게 묶어두었고, 또한 그 두 선수가 공을 잡자마자 달려들어 방해하는 맞춤전략을 썼다. 경기 시작 2분 후 웨스트 햄의 하프백인 잭 트레사던이 스로인을 던진 후에 관중들에 휩쓸려 그라운드로 복귀하지 못하는 상황이 벌어졌다. 이 기회를 놓치지 않은 볼턴의 데이비드 잭이 선수 숫자의 우위를 점한 상황에서 슈팅을 하였다. 웨스트 햄의 골키퍼 테드 허프튼이 이 슛을 막지 못하고 실점을 허용해 볼턴이 앞서나가기 시작했다. 그때 그 공이 다른 관중들에 밀려내려와 골네트에 바짝 붙어있던 한 관중을 강타하면서 그 관중이 무의식 상태가 되어버렸다. 실점 3분 후 웨스트 햄의 빅 왓슨이 볼턴의 골문 바로 앞에서 공을 잡아 천금같은 기회를 잡았으나 슛이 크로스바를 넘어가버렸다. 전반 11분 경에는 또다시 관중들이 앞으로 몰리면서 다수의 팬들이 그라운드 안으로 진입하는 바람에 부심들을 위해 말을 탄 경찰들이 상황을 수습할 때까지 경기가 지연되었다. 선수들이 경기 재개를 기다리는 동안 몇몇 관중들은 많은 관중 속에서 당한 부상 때문에 영국 적십자의 응급처치가 필요하기도 했다. 경찰들은 그라운드 주변을 돌며 더이상 관중들이 선을 넘어 진입하지 못하도록 했고 그 사이 경기가 재개되었다. 웨스트 햄은 후반전에는 보다 더 강한 모습을 보여줬는데, 특히 빅 왓슨이 좋은 자리에서 골 찬스를 맞았으나 슛이 골문을 빗나갔다. 그러나 후반 8분에 볼턴이 웨스트 햄의 거센 저항을 뿌리치고 쐐기골을 넣었다. 아웃사이드 포워드 테드 비자드가 공을 경기장 중앙에 패스했고, 패스를 받은 잭 스미스가 골키퍼 허프슨이 처리하기 앞서 슛을 성공시켰다 골을 넣었다. 그 때 공이 다시 튕겨 나왔는데, 웨스트 햄 선수들은 공이 골라인을 지나지 않고 골포스트를 맞고 튀어 나왔다고 거세게 항의했으나 주심 D. H. 애슨은 어필을 묵살하고 공이 골라인을 지난 뒤에 다시 튕겨 나왔다고 판단했다. 웨스트 햄은 또한 볼턴이 불공평한 어드벤티지를 받았다고 항의했는데, 항의 내용은 비자드에게 공을 차준 사람이 피치 주변에 서있던 볼턴의 팬이었다는 것이다. 하지만 애슨은 이 항의도 기각하고 볼턴의 두 번째 골을 최종적으로 인정하였다. 이때부터 볼턴의 승리를 예상한 많은 관중들이 경기장을 일찍 빠져나갔다. 볼턴의 두 번째 득점 이후 양 팀 모두 좋은 골찬스를 잡지 못하고 교착 상태에 빠져 별다른 흥미를 일으키지 못했다. 경기 후반에는 웨스트 햄의 주장인 조지 케이가 주심에게 경기를 일찍 끝내라고 요구했으나, 소문에 의하면 볼턴의 주장 조 스미스가 주심에게 \"우리는 잘 하고 있어요. 우리는 필요하다면 해가 질 때 까지라도 플레이를 계속 할 겁니다.\"라고 대답했다고 한다. 이윽고 경기 종료가 가까워 주심이 마지막을 휘슬을 불자 2:0으로 볼턴이 승리하여 우승컵을 차지했다. 영국의 왕 조지 5세가 FA컵 우승 트로피를 조 스미스에게 수여했고 경기장의 관중들의 환호를 유도했다. 한편 웨스트 햄의 트레이너 찰리 페인터는 \"흰 말들이 그 큰 발들로 피치(그라운드)를 쿵쿵거리며 돌아다니면서 경기를 절망적으로 만들어버렸다. 우리 팀의 윙어들은 계속해서 넘어졌으며 피치에 파인 홈과 구멍들로 인해 많은 실수를 저질렀다\"며 경기 시작 전에 훼손된 피치의 상태를 팀의 패배 원인으로 꼽았다. 이 경기는 1924년에 완공될 예정이었다가 예정 기간보다 1년 정도 일찍 완공된 구 웸블리 스타디움에서 열린 모든 종류의 행사 가운데 가장 처음으로 열렸던 경기였다. 1차 세계 대전 종료 이후로 스탬퍼드 브리지에서 열린 첫 3번의 FA컵 결승전이 모두 만원 관중을 달성하지 못했기 때문에, 잉글랜드 축구 협회는 이번 경기에서 관중들이 새로운 경기장을 가득 매우고 대형 광고들을 따낼 수 있을지에 대해 걱정이 앞섰다. 이런 우려를 불식시키듯 최고의 국립 경기장으로 소개되었던 웸블리 스타디움은 경기 날에 12만 5천여명이 방문하면서 영국 축구 역사상 유래없는 관중 수를 기록하며 새로운 명소로 떠올랐고, 또한 많은 사람들의 이목을 받게 되었다. 런던에 소재하고 있던 축구 팀이 웸블리에서 경기를 치르는 날에는 대도시인 런던의 모든 축구 팬들이 모두 경기장으로 몰리게 되는 현상이 있었는데, 경기 당일 아침에 발간된 신문은 볼턴에서 5천명의 원정 관중이 예상되며, \"이들과 함께 총 11만 5천명의 열광팬들이 런던과 다른 지역에서 몰려들 것\"이라고 보도했다. 대중교통으로도 간편히 찾아 갈 수 있는 경기장의 접근성과 경기 당일 날의 좋은 날씨 또한 엄청난 관중이 몰려드는 데에 한 몫을 했다. 이 대회 결승전은 축구 자체보다 125,000명 정도 되는 웸블리 스타디움의 수용인원을 훌쩍 뛰어넘은 엄청난 인파로 인한 큰 혼란 때문에 더 중요하게 여겨진다. 추정 300,000여 명의 관중들이 입장하면서 경기장의 테라스까지 꽉 차서 사람들이 넘칠 정도였고, 관중들은 선수들이 경기하는 경기장 안 피치까지 내려가기 까지 했다. 말에 올라탄 경찰들이 경기 시작을 위해 피치 위의 관중들을 올려 보내려고 투입되었는데, 이때 경찰이 탄 말 중 밝은 색의 말이 이 날의 상징이 되었다. 결승전 경기는 관중들이 피치를 둘러싸고 서있는 동안 45분 늦게 시작했다. 경기에선 시작하자마자 웨스트 햄이 강한 공격을 시도했으나 이후 볼턴이 강팀의 위력을 과시하며 경기를 지배하고 2:0 승리를 거뒀다. 세 경기 연속골을 터뜨렸던 볼턴의 데이비드 잭이 경기 시작 2분 만에 상대 수비 공백을 틈타 선제골을 넣었고, 후반전에는 스코틀랜드 출신의 잭 스미스가 추가골을 넣어 승리를 장식했다. 결승 경기 전 행사 때문에 영국 하원에서 논쟁이 있었고 다음 결승 경기들을 위한 안전 대책을 마련하게 되었다. 이 경기는 “백마 결승전”(“White Horse Final”)으로 불리며 2007년에 새로 건축된 웸블리 스타디움에는 백마교(White Horse Bridge)를 지어 이 경기를 기념하기도 한다. 출입문은 알려진 대로 경기 시작 시간 3시간 30분 전인 오전11시 30분에 열렸고 오후1시까지 몰려든 관중들은 질서있게 경기장에 입장했다. 그러나 1시까지 몰려든 관중들이 감당하지 못할 정도로 불어나자 경기장 관리측의 조사 후에 오후 1시 45분에 출입구를 닫고 관중의 입장을 막았다. 관중이었던 윌리엄 로스는 올림픽길(Olympic Way)이 \"사람들로 들끓었\"고 \"경기장에 가까워질수록 그 정도가 심해지다 결국 경기장에 도착했을 때는 회전식 문이 닫혀있었다\"라고 나중에 회고하기도 했다. 경기장 상태에 대한 정보가 여러 기차역에 전달되었지만, 몇 천 명의 사람들이 계속 경기장에 도착해 출입구 주변에 큰 혼란이 일어났다. 경기장에서의 경기 준비는 부실했었는데 《데일리 메일》의 기자는 경기장의 상태에 대해 관리인들은 \"쓸모가 없었\"고 경기장 측 사람들은 경기장 밖과 안의 상황에 대해 \"아무것도 모르는 것 처럼 보였다\"고 자신의 리포트에 적기도 했다. 경기장을 찾은 팬들은 아무런 마련된 장소를 소개받지 못했고, 관중석의 아래층을 위층보다 몇 배나 빠르게 채웠다. 경기장 밖의 인파가 점점 늘어나서 지역 경찰까지 동원되었지만 이미 인파가 너무 커져버리는 바람에 경찰은 취할 수 있는 행동이 아무것도 없다고 판단했다. 오후2시 15분, 경기장 밖의 사람들은 경기장의 벽을 향해 돌진해서 억지로 경기장에 진입하려고 했다. 아래층에 있던 관중들은 이 군중을 피하기 위해 이 펜스를 넘어서 그라운드까지 들어가게 되었다. 당시 관중 테리 히키는 \"줄여서 말하자면, 모든 것들이 짜증나는 난장판이었다.\"라며 훗날 당시 상황의 극단성에 대해서 설명하기도 했다. 공식적인 관중 수는 126,047명으로 집계되었지만 실제로 입장한 관중 수는 15만명에서 30만명까지 이를 것으로 추측된다. 잉글랜드 축구협회는 입장권을 예매했으나 지정된 좌석에 앉을 수 없었던 관중들에게 표 값의 10%를 환불했다. 경기장 주변 도로들이 모두 차단되는 바람에 볼턴의 선수들은 경기장에서 1마일 떨어진 곳에서 부터 코치와 따로 떨어져 인파 속을 뚫고 경기장에 진입했다. 《타임》은 한 때 경기가 열리는 것 자체가 불가능해보였으나 영국의 왕 조지 5세가 도착하자 관중들 사이의 분위기가 바뀌었다고 기록했다. 관중들은 열렬히 영국의 국가인 〈하느님, 국왕 폐하를 지켜주소서〉를 따라 부른 뒤에 선수들이 경기하는 공간을 정리하는 것을 돕기 시작했다. 하얀 말 빌리는 영국 축구의 역사 속 유명한 장면 중 하나로 남아있어서 이 경기는 주로 \"백마 결승전\"(\"The White Horse Final\")로 불린다. 2005년에 웸블리 경기장 근처에 지어질 새로운 다리 이름을 팬들의 투표로 뽑았는데, 그 중에서 백마교(White Horse Bridge)로 하자는 의견이 가장 많았다. 이 투표를 주관했던 런던 개발청의 상임 이사는 이 투표 결과로 뽑힌 이름이 말처럼 웸블리 안의 사람들에게 안전을 제공하라는 뜻으로서 다리의 이름으로 적합하다고 발표했다. 스코틀랜드 신문인 《데일리 레코드》는 스코틀랜드의 국가대표팀의 팬들이 \"백마\"(White Horse)를 지지했는데 그 이유는 전직 잉글랜드 축구 선수나 감독의 이름이 붙여져 영광을 안게 되는 것을 막으려고 했기 때문이고, 또한 \"White Horse\"라는 이름이 위스키 브랜드 이름이었다는 점도 그 이름을 지지한 이유였다고 밝혔다. 빌리의 주인인 조지 스코리는 잉글랜드 축구협회로부터 이후의 모든 결승전 경기를 관람할 수 있는 무료 티켓을 받았지만 축구에 관심이 없어서 한 차례도 경기장을 찾지 않았다. 2007년에는 결승전에서 벌어진 일들에 대한 볼턴 시민들의 반응들을 연기로 담은 연극이 볼턴의 옥타곤 극장에서 상영되었다. 한 단체가 경기 한 달 후에 경기장을 조사했고, 경기장 관리측에 여러 권고사항을 제시했다. 그들의 제안들 중에는 회전식 문을 최신식 문으로 교체하는 것, 출입문과 난간의 추가 설치, 그리고 테라스를 한 테라스당 하나의 문을 갖게끔 나누는 것 등이 포함되어있다. 그 외에도 관리측은 다음 해부터 열릴 모든 결승전에는 표의 예매를 의무화함으로써 당일에 경기장의 수용 능력을 넘기는 사람들이 혹시 출입구에서 표를 구할 수 있을까라는 기대를 갖고 경기장을 찾아오지 못하게 방지하였다. 총 입장료는 27,776 파운드였다. 경기장 관리 비용을 뺀 뒤에, 잉글랜드 축구협회와 결승전의 두 팀이 각각 £6,365씩 나눠가졌는데 표를 예매한 관중들이 자신들의 지정석에 앉지 못함으로 인해 발생한 환불 비용은 축구협회의 몫에서 빠졌다.\n",
      "Metadata: {'source': '/data/ephemeral/home/level2-nlp-generationfornlp-nlp-04-lv3/RAG/grouped_train_dataset.csv', 'row': 2}\n",
      "Content: id: korean-corpus/korquad_v1.0_namu_candidates_256_4\n",
      "title: 1930년_FIFA_월드컵\n",
      "context: 1930년 FIFA 월드컵(영어: 1930 FIFA World Cup, 스페인어: 1er Campeonato Mundial de Futbol)은 전 세계의 남자 축구 국가대표팀간에 우승자를 가리는 대회인 FIFA 월드컵의 첫 대회다. 첫 개최지는 우루과이였으며, 1930년 7월 13일부터 7월 30일까지 열렸다. 세계의 축구 종목을 총괄하는 국제 기구인 FIFA는 1930년이 우루과이의 헌법 제정 100주년이고, 대표팀이 1928년 하계 올림픽에서 축구 금메달을 획득할 만큼 괄목할 성적을 냈다는 이유로 우루과이를 개최국으로 선정했다. 모든 경기는 우루과이의 수도인 몬테비데오에서 열렸고, 이 대회를 위해 건설된 센테나리오 경기장에서 절반 이상의 경기가 진행되었다. 1930년 FIFA 월드컵은 예선전이 없었던 유일한 월드컵이었다. FIFA와 관계를 맺은 모든 국가들이 참가 요청을 받았고, 1930년 2월 28일까지 수락 여부를 결정해야 했다. 아메리카 대륙의 많은 국가들이 참가 의향을 보였는데, 미국, 멕시코, 볼리비아, 브라질, 아르헨티나, 칠레, 파라과이, 페루가 월드컵에 참가하게 되었다. 총 7개의 남미 국가가 참여하게 되었는데, 이 수는 월드컵 역사상 가장 많은 남미 팀이 월드컵 본선에 참여한 것이었다. 그러나 대서양을 가로지르는 먼 여행길과 비싼 여행비, 그리고 선수들은 장기간 차출되어야 했기 때문에, 아주 적은 수의 유럽 팀들이 참가 의향을 밝혔다. 몇 국가들은 여러 이유로 남아메리카로의 먼 여행길에 동의하지 않았는데, 그러자 단 하나의 유럽 팀도 2월의 마감일까지 참가 신청을 하지 않았다. 우루과이 축구 협회는 유럽 국가들의 참가를 이끌어내기 위해 FIFA 회원국도 아닌 잉글랜드 축구 협회에 공문을 보냈다. 1929년 11월 18일, 잉글랜드 축구 협회 위원회에서는 월드컵 참가 요청을 거부했다. 대회가 시작하기 2달 전까지만 해도 어떤 유럽 팀도 참가 신청을 하지 않았다. 1조는 네 개의 팀이 속한 유일한 조였는데, 아르헨티나, 칠레, 프랑스, 멕시코로 구성되어 있었다. 프랑스는 멕시코에게 승리를 거둔 후 이틀 뒤에 조에서 가장 강자였던 아르헨티나와 경기를 치르게 뒤었다. 부상들이 프랑스를 괴롭혔는데, 골키퍼 테포는 경기 시작 20분 만에 부상으로 경기에서 빠져야 했고, 로랑은 루이스 몬티의 강한 태클로 인해 경기 내내 발을 절뚝거렸다. 그러나 그들은 포기 없이 끝까지 분투했고, 81분에 터진 몬티의 프리킥 골로 실점한 것을 제외하고는 인상적인 경기를 펼쳤다. 이 경기는 심판인 알메이다 레구가 실수로 프랑스의 마르셀 랑지예르 결정적인 득점 기회를 잡았을 때 6분 일찍 경기 종료 휘슬을 불어 경기 진행에 대한 논란이 일었다. 프랑스 선수들이 항의하고 나서야 경기가 속행되었지만, 아르헨티나 선수들이 남은 시간을 효과적으로 사용하므로서 경기는 그대로 끝났다. 프랑스 선수들은 48시간 동안 두 경기나 치뤘지만, 그 당시 칠레는 첫 경기도 치루지 않은 상황이었다. 칠레는 다음 날 멕시코를 맞아 3-0 완승을 거뒀다. 2조는 브라질, 볼리비아, 유고슬라비아로 구성된 조로서 그 중 브라질이 가장 강력한 4강 진출 후보로 여겨졌다. 하지만 브라질은 첫 경기에서 유고슬라비아에게 2-1 패배를 당했다. 볼리비아는 월드컵 이전에 국제 경기를 치룬 경험이 전무하였다. 볼리비아는 첫 경기에서 개최국인 우루과이를 향해 선수 각자의 유니폼 위에 한 글자씩 세겨 \"Viva Uruguay\"(\"우루과이 만세\")라는 문구를 만들었다. 볼리비아가 치른 두 경기에서 볼리비아는 비슷한 패턴을 보여주었는데, 경기 초반에는 괜찮은 경기력을 보여주다가 점점 무너지면서 큰 패배로 경기를 마무리 짓는 경향이었다. 유고슬라비아를 맞아서는 첫 한 시간동안 한 골도 허용하지 않았지만, 남은 30분 동안 네 골이나 내주며 패배하였다. 볼리비아에게는 불운도 따랐는데, 볼리비아가 기록한 몇 득점들이 인정되지 않은 것이다. 유고슬라비아가 2승으로 이미 4강 진출을 확정지은 상황에서 토너먼트에서 탈락한 브라질과 볼리비아가 만났는데, 전반전에서는 1-0으로 브라질이 앞서갔다. 후반에 브라질은 만능스포츠인인 프리지뉴의 두 골을 포함해 세 골을 넣으면서 완승을 거뒀다. 최종전이 시작되기 전에 이미 2승을 거둔 유고슬라비아가 준결승전에 진출하였다. FIFA의 회장인 쥘 리메가 개입하자 결국 루마니아, 벨기에, 유고슬라비아, 프랑스 등 4개의 유럽 팀이 바닷길로 참가를 결정했다. 콘스탄틴 러둘레스쿠 감독이 이끌고 주장 루돌프 베트제르와 옥타브 루키데가 코치를 맡은 루마니아는 새롭게 국왕이 된 카롤 2세의 개입에 따라 참가하게 되었다. 루마니아 국왕은 개인적으로 선수 명단을 작성하였고, 선수들이 대회를 마치고 돌아오더라도 각자의 직업을 유지할 수 있게 그들의 고용주를 설득하였다. 프랑스는 쥘 리메의 개인적인 개입으로 인해 참가하게 되었지만, 유명 공격수인 마누엘 아나토와 대표팀 코치인 가스톤 바레아우가 월드컵 참가에 동의하지 않음으로써 불참하게 되었다. 벨기에는 FIFA 부회장인 루돌프 세드라이데르스의 부추김으로 참가를 결정하게 되었다. 결승전은 7월 30일에 센테나리오 경기장에서 열렸다. 경기장 주변의 분위기는 이 경기가 대중들의 관심을 이끌 수 있는지에 대한 의구심을 떨쳐버릴 정도로 고조되어 있었다. 아르헨티나 축구 팬들은 보트 열 대로 부에노스 아이레스에서 몬테비데오로 이동했지만 모든 사람이 이동하기엔 모자랐고, 남은 사람들은 다른 배들을 이용해 몬테비데오로 넘어가려 시도했다. 약 만 명에서 만 오천명 정도의 아르헨티나 팬들이 몬테비데오에 성공적으로 도착했으나, 몬테비데오에 위치한 항구는 다수의 사람들이 경기 시작 휘슬이 불기 전에 경기장에 들어가기는커녕 몬테비데오 땅을 밟지도 못했을 정도로 사람들로 꽉 차있었다. 경기장에서는 서포터즈들이 무기 소지는 하지 않았는지 수색을 받았다. 입구는 경기 시작 6시간 전인 8시 정각에 열렸고, 12시가 되자 경기장은 완전히 꽉 찼고, 9만 3천명의 공식 관중 수가 집계되었다. 우루과이와 아르헨티나 양 팀은 끝내 어느 쪽에서 사용하던 공을 이번 결승전에서 사용할지 논쟁한 끝에 결론을 내리지 못했고, 결국 FIFA는 전반전에는 아르헨티나의 공을, 후반전에는 우루과이의 공을 사용하게 함으로써 중재를 섰다. 우루과이는 준결승전 선발 명단에서 하나의 변화를 주었다. 카스트로 대신 지난 경기에서 건강상의 이유로 결장한 안셀모가 선발 명단에 이름을 올렸다. 아르헨티나의 몬티는 경기 전날에 살해 협박을 받기도 했다. 심판들이 이 경기에서 신변이 우려된다는 이유로 주심 역할 수행에 난색을 표했는데, 벨기에의 장 랑게뉘가 유일하게 경기 시작 불과 몇 시간 전에 주심을 맡겠다고해 이 날 경기의 주심으로 결정되었다. 그가 자신의 신변을 지키기 위한 요구 중 하나는 경기가 끝나자 마자 한 시간 안에 항구에 자신이 타고 재빨리 떠날 수 있는 보트를 준비해달라는 것이었다. 모든 경기들은 몬테비데오에 있는 세 개의 경기장인 센테나리오 경기장, 파르케 센트랄 경기장, 포시토스 경기장에서 치러졌다. 센테나리오 경기장은 축구 경기 용도 뿐만 아니라 우루과이의 독립 100주년을 기념하기 위한 용도로도 건축되었다. 후안 스카소가 디자인 한 이 경기장은 주로 축구 대회 용도로 쓰였으며, 쥘 리메는 이 경기장을 \"축구의 신전\"이라 칭했다. 9만 명의 수용인원을 갖춘 센테나리오 경기장은 영국 제도의 경기장을 제외한 경기장 중에서는 가장 큰 규모의 축구 경기장이다. 18개의 경기 중 준결승 경기와 결승전 경기를 포함한 10경기가 이 경기장에서 열렸다. 그러나 성급하게 진행된 건축 일정과 장마철로 인한 지연으로 인해 센테나리오 경기장이 대회 5일 전까지도 사용할 수 없는 상황이 되었다. 대회 초반의 경기들은 같은 도시인 몬테비데오에 위치한 클럽 나시오날의 홈구장 파르케 센트랄 경기장과 페냐롤의 홈구장 포시토스 경기장에서 열렸다. 미국이 4조를 지배하였다. 많은 신인 선수들을 데리고 있던 미국은 프랑스 대표단의 익명의 사람에 의해 \"투포한 선수들\"(\"The shot-putters\")라는 별명이 붙었다. 미국은 벨기에를 3-0으로 꺾었다. 당초 전문가들은 미국에게 큰 기대치를 두지 않았었는데, 경기가 끝나고 우루과이 신문인 《임파르시알》은 \"미국이 큰 점수차로 승리한 것은 많은 전문가들을 놀라게 했다\"고 할 정도로 아무도 미국의 손쉬운 승리를 예상하지 못했다. 벨기에의 언론은 경기장의 상태와 심판의 판단에 대해서 크게 아쉬워했는데, 특히 미국의 두 번째 골은 오프사이드였다고 주장했다. 4조의 두 번째 경기는 강풍의 기후 조건에서 치러진 미국과 파라과이의 경기였는데, 미국의 버트 페이트노드가 월드컵 사상 첫 해트트릭을 달성했다. 2006년 11월 10일까지 FIFA가 공인한 월드컵 첫 해트트릭 기록은 아르헨티나의 기예르모 스타빌레의 기록이었지만, 사실 스타빌레는 페이트노드가 기록을 세운 7월 17일에서 이틀 뒤인 7월 19일에 해트트릭을 달성했다. FIFA는 2006년에 미국 팀 동료인 탐 플로리가 기록한 득점을 페이트노드의 득점으로 인정하며 페이트노드가 월드컵 사상 첫 해트트릭을 기록한 선수로 공인했다. 미국이 준결승전에 진출하는 것이 확정되자, 탈락한 두 팀의 최종전은 시시하게 진행되었다. 파라과이가 벨기에를 1-0으로 눌렀다. 센테나리오 경기장의 건축 지연으로 인해 우루과이는 대회가 시작되고 나서 5일 동안 첫 경기도 치르지 못했다. 센테나리오 경기장에서 처음 치러지는 경기가 시작하기 전에 우루과이의 헌법 제정 100주년 기념 행사가 열렸다. 우루과이 선수단은 이 경기가 시작되기 전 4주 동안 훈련 캠프를 차려 혹독한 훈련을 받았다. 골키퍼 안드레스 마잘리는 아내를 만나기 위해 외출 금지령을 깼다는 이유로 선수단에서 제외되었다. 헌법 제정 100주년을 맞은 개최국 우루과이는 페루를 맞아 1-0 신승을 거뒀다. 이 경기 결과에 대해 우루과이 언론은 쓴 소리를 뱉었지만 페루에서는 좋은 경기였다며 높이 샀다. 우루과이는 이어 루마니아를 맞아 전반에만 네 골을 몰아치며 4-0 대승을 거둬 준결승전에 진출하였다. 아르헨티나는 두 번째 경기에서 멕시코와 맞붙게 되었는데, 이 경기에서 월드컵 역사상 최초로 페널티킥이 선언되었다. 볼리비아 코치 겸 심판인 주심 울리세스 사우세도가 페널티킥을 다섯 개나 선언했으나, 그 중 세 개는 격렬한 항의를 받을 정도로 아직 페널티킥에 대한 명확한 기준이 세워져있지 않았었다. 기예르모 스타빌레가 첫 국제 대회 출전에 해트트릭을 기록했고, 아르헨티나는 대학교에 법학 시험을 보러 부에노스 아이레스로 돌아간 주장 마누엘 페레이라 없이도 6:3의 완승을 거두었다. 아르헨티나와 칠레가 프랑스와 멕시코를 각각 꺾으면서 2승을 기록한 상황에서 최종전에서 만나게되어, 결국 4강 진출 팀은 최종전에서 결정되게 되었다. 몬티가 아르투로 토레스에게 과격한 파울을 범해 싸움이 일어났다. 아르헨티나가 이웃 국가인 칠레를 3-1로 꺾으면서 4강에 진출하였다. 오늘날 치러지는 있는 3·4위 결정전은 1934년 FIFA 월드컵 전에는 존재하지 않아 1930년 월드컵은 유일하게 3위와 4위를 구별하지 않았던 대회가 되었다. 1984년에 FIFA가 발행한 공보 같이 가끔씩은 유고슬라비아가 미국을 3-1로 이겨 3위에 올랐다는 잘못된 정보가 떠돌아다니기도 했다. 3·4위전이 당초에 계획되어 있었는지에 대해서도 다른 기록들이 존재한다. 하이더 자와드가 2009년에 발간한 책에 따르면 유고슬라비아가 우루과이와의 준결승전의 심판 판정에 대한 불만의 표시로 3·4위전을 보이콧 했다고 한다. 1986년 월드컵에 관한 FIFA 기술위원회의 보고서에는 모든 월드컵 대회서의 모든 팀들의 기록들을 정리해 만든 순위표가 있었다. 이 보고서에서는 미국을 3위로, 유고슬라비아를 4위로 기록하였고, FIFA가 정기적으로 발행하는 보고서에도 모두 같은 내용이 들어가있다. 2010년에는 1930년 월드컵 당시 유고슬라비아 대표팀의 수장이자 유고슬라비아 축구 협회의 부회장이었던 코스타 하지의 아들이 유고슬라비아가 동메달 하나를 수여받았고, 하지가 스스로 관리해 자신의 가족이 80년 동안 보관하고 있었다고 주장했다. 그의 말에 따르면, 유고슬라비아가 자신을 꺾었던 우루과이가 월드컵에서 우승하면서 자동적으로 3위에 기록되었다고 한다. 이 메달을 어떤 단체에서 주어졌는지나 메달의 진위 여부는 아직 공식적으로 밝혀진 바가 없다. 이탈리아, 스웨덴, 네덜란드, 스페인, 그리고 우루과이가 모두 월드컵 유치를 위한 신청서를 제출했다. 우루과이가 여러 이유로 가장 유력한 유치 후보국가로 지목되었다. 우루과이는 올림픽 축구에서 최강자로 군림하고 있었고, 그 때문에 사실상 세계 최강팀으로 인정을 받고 있었다. 또한 우루과이의 신청서에는 대회의 중심이 될 새로운 경기장을 건설한다는 계획이 있었고, 또 우루과이 당국도 모든 참가국들에게 일체 비용을 지원해준다는 방안을 제시했다. 우루과이를 제외한 다른 국가들은 신청을 철회했으며, 결국 바르셀로나에서 개최된 FIFA 총회에서 우루과이가 대회를 유치하기로 결정되었다. \"승리의 여신\"이라 알려진 순금 트로피는 아벨 라플뢰르라는 프랑스의 조각가에게 의뢰하여 제작되었다. 홈팀인 우루과이가 파블로 도라도가 골대 오른 편에서 낮게 깔아 찬 슛으로 기록한 선제골로 앞서나가기 시작했다. 아르헨티나는 뛰어난 패싱 게임을 펼치며 우루과이에 강하게 맞섰다. 그리곤 8분 만에 카를로스 페우셀레가 페레이라의 스루패스를 받아 수비수를 따돌리고 동점골을 기록했다. 전반전이 끝나기 직전 당시 대회 득점 선두였던 길레르모 스타빌레가 역전골을 넣어 아르헨티나가 2:1로 앞서가기 시작했다. 우루과이의 주장인 호세 나사시가 스타빌레가 오프사이드 위치에 있었다며 심판에게 항의했으나 받아들여지지 않았다. 후반전에는 우루과의의 경기력이 점차 올라오기 시작했다. 아르헨티나의 몬티가 두 골차로 앞서갈 절호의 기회를 놓치자 마자 우루과이가 역습에 나섰고, 페드로 세아가 동점골을 기록해 승부는 원점으로 돌아갔다. 10분 후에는 우루과이의 산토스 이리아르테가 역전골을 뽑아냈고, 경기 종료 직전에는 카스트로가 쐐기를 박는 골을 성공시켜 결국 경기는 4:2로 종료되었다. 랑게뉘 주심은 1분의 추가시간이 지난 후에 휘슬을 불었고, 우루과이는 올림픽에서의 우승에 이어 첫 월드컵 우승 팀이라는 영광을 안았다. 쥘 리메는 자신의 이름을 딴 월드컵 트로피인 쥘 리메 컵을 우루과이 축구 협회 회장 라울 후데에게 전달했다. 우루과이 정부는 우승에 대한 환희로 경기 다음날인 7월 31일을 국가 공휴일로 지정했다. 한편 준우승에 그친 아르헨티나의 수도 부에노스 아이레스에서는 우루과이 영사관을 향해 군중들이 돌을 던졌다.\n",
      "Metadata: {'source': '/data/ephemeral/home/level2-nlp-generationfornlp-nlp-04-lv3/RAG/grouped_train_dataset.csv', 'row': 3}\n",
      "Content: id: korean-corpus/korquad_v1.0_namu_candidates_256_5\n",
      "title: 1956년_조지아_시위\n",
      "context: 1956년 3월 시위(1956년 트빌리시 폭동 또는 3월 9일 대학살로도 알려짐)는 소비에트 그루지야의 니키타 흐루쇼프 탈스탈린화 정책에 대한 반응으로, 스탈린주의 사상을 지닌 젊은 조지아인들에게 충격을 주었고 그들의 국가에 대한 감정에 상처를 주었다. 항변의 진원지는 공화국의 수도 트빌리시였다. 스탈린 사망 3주년을 기념하고 니키타 흐루쇼프의 스탈린 비난을 신속하게 도시를 마비시키는 군중 시위와 폭동으로 발전시키기 위해 위해 자발적으로 집결했다. 곧바로, 모스크바 중앙정부의 변화와 같은 정치적인 요구와 소비에트 연방으로부터 조지아의 독립의 요청이 드러났다. 지방 정부 조지아 당국은 당황했고 혼란스러웠으며 소련군에게 책임을 물었다. 3월 9일 늦은 시각, 도시에 배치된 군인들은 정부 청사 앞에서 외견상 소비에트어 판으로 보이는 \"자주-국방의 실현\"이라고 쓰여진 피켓을 들고 시위하는 학생들에게 공격을 시작했다. 동요된 군중들은 3월 10일에도 저항을 계속했지만, 마침내 전차들에 의해 분산되었다. 사상자의 수는 어림잡아 수십에서 수백명이었다. 1978년 4월 전까지는 조지아가 소비에트 통치에 도전하는 아무런 명백한 시도가 없었는데도 불구하고, 조지아인들은 모스크바의 소비에트 정부에 저항하는 원한을 계속 품고 있었다. 조지아의 많은 사람들이 니키타 흐루쇼프의 항변자들에게 군대의 발포를 명령한 것에 대한 개인적인 책임을 물었다. 트빌리시 사건은, 발틱을 가능한한 제외하고, 분명한, 소비에트 연방의 속국으로부터 조지아의 일탈을 의미한다. 연방에 대한 충성을 진지하게 받아들이지 않았고 반-소비에트 감정은 조지아의 애국심을 재건하는데 필수 요소가 되었다. 처음으로 조지아의 비밀 단체들이 조지아가 소비에트 연방에서 탈퇴할 것을 노골적으로 요구한 것으로 드러난 1956년 사건의 즉각적인 여파이다. 그들은 전형적으로 소규모였고 무장하지 않았으므로 소비에트 당국은 재빨리 그들을 중립화시킬 수 있었다. 그러나, 그들은 10대 시절에 둘다 1956년 집회의 시위 참가자였던 메랍 코스타바와 즈뱌드 감므사쿠르디아와 같은, 새로운 반체제 세대의 기원이 되었다. 그리고 그 새로운 세대의 시초 둘은 1980년대에 조지아의 독립 투쟁을 이끌게 된다. 3월 6일, 트빌리시의 시위는 더 조직적이 되었고 가담자 수는 더 많아졌다. 그날에 CPUS 중앙 위원회에서 비공개 서신 \"개인 숭배의 현장에서\"가 조지아의 장관들과 지역 기자들이 참석한 특별 회기에서 큰소리로 낭독되었다. 특별 회기에 대한 뉴스는 급속도로 트빌리시 전역으로 퍼져나갔고 그런 상황은 단계적으로 확대되었다. 3월 7일 이른 시각에, 트빌리시 국립대학교 학생들은 수업을 빼먹고 거리로 쏟아져 나와, 다른 학교의 학생들과 학동들과 합류했다. 시위대는 자동차 사이렌의 불협화음을 동반하여 \"영원하여라. 위대한 스탈린! 끝이 없어라. 레닌과 스탈린 당! 영원불멸 소비에트 그루지야!\"이라는 선전 문구를 외치며, 시위의 행렬은 루스타벨리 대로에서 레닌 광장으로 가는 트빌리시 주도로로 기울었으며, 정부 청사에서 멈추어섰고, 그 다음에는 시청으로 향했다. 경찰의 진압을 압도하며, 항변자들은 스탈린 기념비 앞에 한번 더 모여 들었다. 항변자들은 당국에 대한 그들의 요구 사항들을 토해냈다. 공유일인 3월 9일에, 모든 지역 신문들은 스탈린의 생애를 기리는 기사를 내고, 극장에서는 미헤일 챠우렐리가 제작한 베를린 함락과 잊지못할 1919년이라는 영화(두 영화 모두 스탈린 우상화에 대한 전형적인 단편 영화이다.)를 상영하고, 한때 조지아를 방문했었던 중국군 사령관 주더를 초청하라고 요구했다. 시위대의 수는 7만명에 육박했다. 소비에트 중앙 내무부는 처음에는 항의의 규모를 과소 평가했고 자니파바 장관이 작성한 정보 서신은 3월 8일이 지나서야 중앙 위원회에 도착했다. 같은날 저녁에 당국은 라디오를 통하여 집회를 중지할 것을 부르짖으며 호소했고 트빌리시의 수비대의 지휘관이 3월 10로 자정부터 시작되는 야간통행금지령을 내리고 있음을 알렸다. 많은 항변자들이 다가오는 위협을 감지했으며 도심부를 떠나기 시작했다. 자정이 지났지만, 대표로 임명된 박식한 사람들은 통신 본부 안으로 들여보내졌고 신원 확인 절차로 인해 외견상으로는 구류된 것 같았다. 군중들은 자신들의 대표자들을 구출하기 위해 건물로 돌격했고 본부 경비군들과 충돌이 잇달아 일어났다. 군대는 소용돌이 치는 본부를 지키고 항변자들을 막기 위해 군중들에게 발포를 시작했다. 동시에, 레닌 광장과 스탈린 기념비에서 시위대를 내쫓기 위해 전차들이 기동했다. 항변자들은 3월 10일 집회를 재개하려고 했지만, 그들은 병력들에 의해 다시 분산되었다. 수백명은 안될지라도 수십명이 그 탄압 과정에서 죽어나갔다. 아무런 공적인 보고도 없었지만, 각소의 사상자수는 어림잡아 106~800명 으로 추산된다. 수백명이 상처를 입고 부상을 당했다. 200명 이상이 계속되는 보복행위로 체포되었고 그 결과로 상당수가 시베리아의 강제 노동 수용소로 추방되었다. 그 당시, 도시는 마비되었다. 집회는 여러 장소에서 동시에 열렸고, 시위는 특히 레닌 광장과 화환이 씌워진 스탈린 기념비 앞에서는 더욱더 열렬했다. 도심의 거리들은 큰소리로 니키타 흐루쇼프를 규탄하고 스탈린의 명예 회복과 그의 기념일의 승인과를 요청하며 특히 브야체슬라프 몰로토프가 스탈린의 이름을 지켜줄 것을 요구하는 시위대의 물결로 가득찼다. 도로에 장애물이 설치되고 버스와 자동차들이 전복되었다. 군중들은 교통혼잡과 시위를 멈추게 하려는 여러 수단들 까지 헤치고 앞으로 나아갔다. 저항자들의 차량과 경찰차의 운전자들끼리의 충돌이 잦았다. 몇몇 주동자들이 체포될 때, 시위는 더더욱 거세졌고, 군중들은 더 폭력적으로 변해갔다. 첫 번째 조지아인 장관 바실 므차바나드제는 항변자들을 위해 고심했고 조지아를 방문한 중국군 사령관 주더가 군중들에게 경의를 표할 것을 요구했지만, 그는 스탈린 기념비 방문을 거절했고 시위는 분산되지 않았다. 그루지야 SSR의 내무부 장관 블라디미르 자니파바의 특별 보고서에 따르면, 트빌리시 도심의 쿠라 제방에 있는 스탈린 기념비 앞에서 스탈린 서거 3주년을 기념하기 위해 학생 단체들이 모여들던 1956년 3월 4일에 정치적인 불안이 시작되었다고 한다. 니키타 흐루쇼프의 연설에 분개한 그들은 그 지역에 저지선을 구축하고 있는 인민 경찰들에게 호전적이었다. 그루지야 공산당원 파라스티슈빌리는 술에 취해 술병을 든채로 스탈린 기념비에 올라가 술병을 깨고 이렇게 말하였다. \"스탈린의 적들은 죽어버려라. 이 술병처럼.\" 사람들은 스탈린 기념비에 화환을 들고왔고, 더더욱 많은 사람들을 모여들었으며, 시위의 규모는 점진적으로 커져갔다. 혼란에 빠진 지방 당국은 그러한 활동들을 적극적으로 방해하지 않았다. 수도에서의 시위는 고리, 쿠타이시, 루스타비, 수후미와 같은 공화국의 다른 지역들에서도 흡사한 저항에 방아쇠를 당겼다. 시위가 계속됨으로, 지역 당국은 그 상황 전체에 걸쳐 통제력을 상실하기 시작했다. 시위대는 조지아에 대한 애국심으로 호소하고, 공산주의자들은 충성심을 증명하므로 항변자들의 규모로 인해 도심은 마비되었고, 경찰은 경찰은 더욱더 나태하게 대응했다. 3월 9일 이른시각, 당국은 긴장을 완화시키려고 노력했으며 스탈린 추모 기념일 의식의 개최를 허락했다. 그러나 허가에 대한 뒤늦은 시도는 어떠한 결과도 가져다 주지 않았다. 다음 날, 스탈린 기념비 근처의 집회에서, 여러 당의 임원들이 참석한 가운데, 정치적인 요구 사항들이 큰소리로 낭독되었다. 논쟁의 여지가 있지만, 후일에 탄원 내용을 작성하려고 노력했던 루벤 키피아니의 증언에 따르면, 요구 사항들은, 첫째, CPSU 중앙위원회의 스탈린에 대한 \"비공개 서신\"을 보고할 것. 둘째, 아나타스 미코얀, 니콜라이 불가닌과 니키타 흐루쇼프를 그들의 직책들에서 해임할 것. 셋째, 새정부 수립. 넷째, 아제르바이잔 SSR의 첫 번째 장관 미르 자파 바피로프를 형무소에서 풀어줄 것. 다섯 번째, 소비에트 그루지야 임원 아카키 므겔라제와 므차바드제를 중앙 간부 위원회 위원으로 승진시킬 것. 여섯번째, 스탈린의 아들 바실리를 중앙 위원회 위원으로 임명할 것. 일곱번째, 사면 기구 설립. 모스크바로 이 전보를 전하기 위하여 루스타벨리 대로 근처에 있는 통신 본부로 거의 10명을 보내기로 결정하였다. 조지아의 민족주의에 대한 스탈린의 가혹한 억압에도 불구하고, 니키타 흐루쇼프의 탈스탈린화 정책은, 역설적으로, 조지아의 국가적 위상에 충격을 가한 것이었다. 조지아의 젋은 세대는, 스탈린 통치의 어두운 측면을 완전히 알고 있지 않았고 러시아로 건너가 대 제국을 통치했고 널리 알려진 것과 같이 세계를 좌지우지 했으며, 조지아를 지배했던 스탈린을 자랑스럽게 생각하며 그의 \"천재성\"에 대한 찬사와 영구한 찬양의 감정이 깃들어 있었다. 그 때에, 러시아/소비에트의 통치자들의 손아귀에 있던 조지아가 스탈린을 폄하한다는 것은 조지아의 국가적 의식을 학대하는 것으로 밖에 보이지 않았다. 정치에 대한 반감과 애국심이 어울어져 향후에 조지아인이 \"조지아가 낳은 위대한 아들\"이라는 말을 너무나도 자주 즐겨하게 했으며 니키타 흐루쇼프가 그 지역의 모든 공포는 반어적으로 \"온화한\" 지도자 스탈린의 탓으로 하는 식의 풍자와 냉소적인 언행에 불을 붙였다. 쿠타이시의 콤소몰 단장과 특히 후-소비에트 그루지야 대통령이 된 에두아르트 셰바르드나제는 다음부터는 후르시초프의 연설 끝에 조지아에게 전하는, 그의 반어적인 표현, 특히 조지아의 젊은이들의 자부심에 상처를 입힐 수도 있는 언변을 주의할 것을 상기시켰다.\n",
      "Metadata: {'source': '/data/ephemeral/home/level2-nlp-generationfornlp-nlp-04-lv3/RAG/grouped_train_dataset.csv', 'row': 4}\n"
     ]
    }
   ],
   "source": [
    "for doc in docs[:5]:  # 앞의 5개 항목을 확인\n",
    "    print(\"Content:\", doc.page_content)  # 텍스트 내용\n",
    "    print(\"Metadata:\", doc.metadata)  # 메타데이터"
   ]
  },
  {
   "cell_type": "code",
   "execution_count": null,
   "metadata": {},
   "outputs": [],
   "source": [
    "#from langchain.chat_models import ChatOpenAI\n",
    "#from dotenv import load_dotenv\n",
    "#import os\n",
    "\n",
    "# .env 파일 로드\n",
    "#load_dotenv()\n",
    "\n",
    "# 환경 변수에서 OpenAI API 키 불러오기\n",
    "#openai_api_key = os.getenv(\"OPENAI_API_KEY\")\n",
    "\n",
    "# OpenAI 모델 인스턴스 생성\n",
    "#model = ChatOpenAI(openai_api_key=openai_api_key)"
   ]
  },
  {
   "cell_type": "code",
   "execution_count": null,
   "metadata": {},
   "outputs": [],
   "source": [
    "from langchain_text_splitters import RecursiveCharacterTextSplitter\n",
    "from langchain_community.document_loaders import PyMuPDFLoader\n",
    "from langchain_community.vectorstores import FAISS\n",
    "from langchain_core.output_parsers import StrOutputParser\n",
    "from langchain_core.runnables import RunnablePassthrough\n",
    "from langchain_core.prompts import PromptTemplate\n",
    "from langchain.chat_models import ChatOpenAI\n",
    "from dotenv import load_dotenv\n",
    "import os\n",
    "\n",
    "# 문서 분할(Split Documents)\n",
    "text_splitter = RecursiveCharacterTextSplitter(chunk_size=1000, chunk_overlap=50)\n",
    "split_documents = text_splitter.split_documents(docs)"
   ]
  },
  {
   "cell_type": "code",
   "execution_count": null,
   "metadata": {},
   "outputs": [],
   "source": [
    "# 임베딩(Embedding) 생성\n",
    "embeddings = OpenAIEmbeddings()"
   ]
  },
  {
   "cell_type": "code",
   "execution_count": null,
   "metadata": {},
   "outputs": [],
   "source": [
    "# DB 생성(Create DB) 및 저장\n",
    "# 벡터스토어를 생성합니다.\n",
    "vectorstore = FAISS.from_documents(documents=split_documents, embedding=embeddings)"
   ]
  },
  {
   "cell_type": "code",
   "execution_count": null,
   "metadata": {},
   "outputs": [],
   "source": [
    "# 단계 5: 검색기(Retriever) 생성\n",
    "# 문서에 포함되어 있는 정보를 검색하고 생성합니다.\n",
    "retriever = vectorstore.as_retriever()"
   ]
  },
  {
   "cell_type": "code",
   "execution_count": null,
   "metadata": {},
   "outputs": [],
   "source": [
    "# 단계 6: 프롬프트 생성(Create Prompt)\n",
    "# 프롬프트를 생성합니다.\n",
    "prompt = PromptTemplate.from_template(\n",
    "    \"\"\"You are an assistant for question-answering tasks. \n",
    "Use the following pieces of retrieved context to answer the question. \n",
    "If you don't know the answer, just say that you don't know. \n",
    "Answer in Korean.\n",
    "\n",
    "#Context: \n",
    "{context}\n",
    "\n",
    "#Question:\n",
    "{question}\n",
    "\n",
    "#Answer:\"\"\"\n",
    ")"
   ]
  },
  {
   "cell_type": "code",
   "execution_count": null,
   "metadata": {},
   "outputs": [],
   "source": [
    "# 단계 7: 언어모델(LLM) 생성\n",
    "# 모델(LLM) 을 생성합니다.\n",
    "llm = ChatOpenAI(model_name=\"gpt-4o\", temperature=0)\n",
    "\n",
    "# 단계 8: 체인(Chain) 생성\n",
    "chain = (\n",
    "    {\"context\": retriever, \"question\": RunnablePassthrough()}\n",
    "    | prompt\n",
    "    | llm\n",
    "    | StrOutputParser()\n",
    ")"
   ]
  },
  {
   "cell_type": "code",
   "execution_count": null,
   "metadata": {},
   "outputs": [
    {
     "data": {
      "application/vnd.jupyter.widget-view+json": {
       "model_id": "5d9f0c34aa5d4575a296701f84c7452c",
       "version_major": 2,
       "version_minor": 0
      },
      "text/plain": [
       "README.md:   0%|          | 0.00/6.19k [00:00<?, ?B/s]"
      ]
     },
     "metadata": {},
     "output_type": "display_data"
    },
    {
     "data": {
      "application/vnd.jupyter.widget-view+json": {
       "model_id": "bdb018169e9f421db04c7711098f8e56",
       "version_major": 2,
       "version_minor": 0
      },
      "text/plain": [
       "Loading dataset shards:   0%|          | 0/18 [00:00<?, ?it/s]"
      ]
     },
     "metadata": {},
     "output_type": "display_data"
    },
    {
     "name": "stdout",
     "output_type": "stream",
     "text": [
      "DatasetDict({\n",
      "    train: Dataset({\n",
      "        features: ['title', 'text', 'contributors', 'namespace'],\n",
      "        num_rows: 867024\n",
      "    })\n",
      "})\n"
     ]
    }
   ],
   "source": [
    "namu_data = load_dataset('heegyu/namuwiki')\n",
    "print(namu_data)"
   ]
  },
  {
   "cell_type": "code",
   "execution_count": null,
   "metadata": {},
   "outputs": [
    {
     "name": "stdout",
     "output_type": "stream",
     "text": [
      "DatasetDict({\n",
      "    train: Dataset({\n",
      "        features: ['title', 'text', 'contributors', 'namespace'],\n",
      "        num_rows: 867024\n",
      "    })\n",
      "})\n"
     ]
    }
   ],
   "source": [
    "print(namu_data)"
   ]
  },
  {
   "cell_type": "code",
   "execution_count": null,
   "metadata": {},
   "outputs": [],
   "source": [
    "import pandas as pd\n",
    "# train 데이터프레임으로 변환\n",
    "train_df = pd.DataFrame(namu_data['train'])\n",
    "\n",
    "# 'title'별로 'context' 모으기\n",
    "grouped_data = train_df.groupby('title')['text'].apply(lambda x: ' '.join(x)).reset_index()\n",
    "\n",
    "# 새로운 id 생성: 'korean-corpus/korquad_v1.0_namu_candidates_256' 뒤에 번호를 붙임\n",
    "grouped_data['id'] = 'heegyu/namuwiki-' + (grouped_data.index + 1).astype(str)\n",
    "\n",
    "# 필요한 컬럼만 남기기\n",
    "grouped_data = grouped_data[['id', 'title', 'text']]"
   ]
  },
  {
   "cell_type": "code",
   "execution_count": null,
   "metadata": {},
   "outputs": [],
   "source": [
    "sn_data = grouped_data[:700000]\n",
    "ms_data = grouped_data[700000:]"
   ]
  },
  {
   "cell_type": "code",
   "execution_count": 10,
   "metadata": {},
   "outputs": [
    {
     "name": "stdout",
     "output_type": "stream",
     "text": [
      "Dataset({\n",
      "    features: ['id', 'title', 'text'],\n",
      "    num_rows: 167024\n",
      "})\n"
     ]
    }
   ],
   "source": [
    "from datasets import Dataset\n",
    "\n",
    "new_dataset = Dataset.from_pandas(ms_data)\n",
    "\n",
    "# 결과 확인\n",
    "print(new_dataset)"
   ]
  },
  {
   "cell_type": "code",
   "execution_count": 12,
   "metadata": {},
   "outputs": [
    {
     "name": "stdout",
     "output_type": "stream",
     "text": [
      "CSV 파일로 저장되었습니다.\n"
     ]
    }
   ],
   "source": [
    "# 'new_train_dataset'을 pandas DataFrame으로 변환\n",
    "new_df = new_dataset.to_pandas()\n",
    "\n",
    "# CSV 파일로 저장\n",
    "new_df.to_csv('heegyu-namuwiki_minseon.csv', index=False)\n",
    "\n",
    "print(\"CSV 파일로 저장되었습니다.\")"
   ]
  },
  {
   "cell_type": "code",
   "execution_count": 9,
   "metadata": {},
   "outputs": [
    {
     "ename": "AttributeError",
     "evalue": "'str' object has no attribute 'page_content'",
     "output_type": "error",
     "traceback": [
      "\u001b[0;31m---------------------------------------------------------------------------\u001b[0m",
      "\u001b[0;31mAttributeError\u001b[0m                            Traceback (most recent call last)",
      "Cell \u001b[0;32mIn[9], line 2\u001b[0m\n\u001b[1;32m      1\u001b[0m \u001b[38;5;28;01mfor\u001b[39;00m doc \u001b[38;5;129;01min\u001b[39;00m ms_data[:\u001b[38;5;241m5\u001b[39m]:  \u001b[38;5;66;03m# 앞의 5개 항목을 확인\u001b[39;00m\n\u001b[0;32m----> 2\u001b[0m     \u001b[38;5;28mprint\u001b[39m(\u001b[38;5;124m\"\u001b[39m\u001b[38;5;124mContent:\u001b[39m\u001b[38;5;124m\"\u001b[39m, \u001b[43mdoc\u001b[49m\u001b[38;5;241;43m.\u001b[39;49m\u001b[43mpage_content\u001b[49m)  \u001b[38;5;66;03m# 텍스트 내용\u001b[39;00m\n\u001b[1;32m      3\u001b[0m     \u001b[38;5;28mprint\u001b[39m(\u001b[38;5;124m\"\u001b[39m\u001b[38;5;124mMetadata:\u001b[39m\u001b[38;5;124m\"\u001b[39m, doc\u001b[38;5;241m.\u001b[39mmetadata)\n",
      "\u001b[0;31mAttributeError\u001b[0m: 'str' object has no attribute 'page_content'"
     ]
    }
   ],
   "source": [
    "for doc in ms_data[:5]:  # 앞의 5개 항목을 확인\n",
    "    print(\"Content:\", doc.page_content)  # 텍스트 내용\n",
    "    print(\"Metadata:\", doc.metadata)  # 메타데이터"
   ]
  },
  {
   "cell_type": "code",
   "execution_count": 1,
   "metadata": {},
   "outputs": [],
   "source": [
    "import pandas as pd\n",
    "file_path = '/data/ephemeral/home/seona/level2-nlp-generationfornlp-nlp-04-lv3/RAG/korquad_social.csv'\n",
    "data = pd.read_csv(file_path)\n",
    "\n",
    "df = pd.DataFrame(data)\n",
    "\n",
    "df = df.drop(columns='context')\n",
    "\n",
    "output_path = '/data/ephemeral/home/seona/level2-nlp-generationfornlp-nlp-04-lv3/RAG/korquad_social_no_context.csv'\n",
    "data = df.to_csv(output_path, index=False)"
   ]
  },
  {
   "cell_type": "code",
   "execution_count": 3,
   "metadata": {},
   "outputs": [],
   "source": [
    "import pandas as pd\n",
    "file_path = '/data/ephemeral/home/seona/level2-nlp-generationfornlp-nlp-04-lv3/RAG/korquad_is_it_social.csv'\n",
    "data = pd.read_csv(file_path)\n",
    "\n",
    "df = pd.DataFrame(data)\n",
    "df = df[df['is_social'] == 1]\n",
    "\n",
    "output_path = '/data/ephemeral/home/seona/level2-nlp-generationfornlp-nlp-04-lv3/RAG/korquad_social_only.csv'\n",
    "data = df.to_csv(output_path, index=False)"
   ]
  },
  {
   "cell_type": "code",
   "execution_count": 1,
   "metadata": {},
   "outputs": [
    {
     "name": "stdout",
     "output_type": "stream",
     "text": [
      "필터링된 데이터가 새로운 JSON 파일로 저장되었습니다.\n"
     ]
    }
   ],
   "source": [
    "import json\n",
    "\n",
    "# 기존 JSON 파일 읽기\n",
    "with open('/data/ephemeral/home/seona/level2-nlp-generationfornlp-nlp-04-lv3/RAG/heegyu_namuwiki_part_10_social.json', 'r', encoding='utf-8') as f:\n",
    "    data = json.load(f)\n",
    "\n",
    "# \"is_social\" 값이 0인 항목을 필터링\n",
    "filtered_data = [entry for entry in data if entry.get('is_social') == \"1\"]\n",
    "\n",
    "# 필터링된 데이터를 새로운 JSON 파일로 저장\n",
    "with open('/data/ephemeral/home/seona/level2-nlp-generationfornlp-nlp-04-lv3/RAG/heegyu_namuwiki_part_10_social_only.json', 'w', encoding='utf-8') as f:\n",
    "    json.dump(filtered_data, f, ensure_ascii=False, indent=4)\n",
    "\n",
    "print(\"필터링된 데이터가 새로운 JSON 파일로 저장되었습니다.\")\n"
   ]
  }
 ],
 "metadata": {
  "kernelspec": {
   "display_name": "base",
   "language": "python",
   "name": "python3"
  },
  "language_info": {
   "codemirror_mode": {
    "name": "ipython",
    "version": 3
   },
   "file_extension": ".py",
   "mimetype": "text/x-python",
   "name": "python",
   "nbconvert_exporter": "python",
   "pygments_lexer": "ipython3",
   "version": "3.10.13"
  }
 },
 "nbformat": 4,
 "nbformat_minor": 2
}
