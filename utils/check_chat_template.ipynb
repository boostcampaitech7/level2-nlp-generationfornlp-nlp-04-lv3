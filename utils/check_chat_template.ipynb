{
 "cells": [
  {
   "cell_type": "code",
   "execution_count": null,
   "metadata": {},
   "outputs": [],
   "source": [
    "import torch\n",
    "from transformers import AutoModelForCausalLM, AutoTokenizer\n",
    "import pandas as pd\n",
    "from modules.data_module import KsatDataModule\n",
    "from pprint import pprint\n",
    "from omegaconf import OmegaConf\n",
    "\n",
    "pd.set_option('display.max_columns', None)"
   ]
  },
  {
   "cell_type": "markdown",
   "metadata": {},
   "source": [
    "### 모델, 토크나이저 불러오기\n",
    "\n",
    "템플릿 설정과 스페셜 토큰 설정을 모델 별로 자동화하기 곤란한 부분이 있어 직접 확인 후 `model.py`에 적절한 설정을 추가해주기 위해 필요한 절차에 대한 설명입니다."
   ]
  },
  {
   "cell_type": "code",
   "execution_count": 2,
   "metadata": {},
   "outputs": [
    {
     "data": {
      "application/vnd.jupyter.widget-view+json": {
       "model_id": "95b49db2c4fa437b950b533d3752cdce",
       "version_major": 2,
       "version_minor": 0
      },
      "text/plain": [
       "Loading checkpoint shards:   0%|          | 0/2 [00:00<?, ?it/s]"
      ]
     },
     "metadata": {},
     "output_type": "display_data"
    }
   ],
   "source": [
    "model = AutoModelForCausalLM.from_pretrained(\n",
    "    \"Bllossom/llama-3.2-Korean-Bllossom-3B\",\n",
    "    torch_dtype=torch.float16,\n",
    "    trust_remote_code=True,\n",
    ")\n",
    "tokenizer = AutoTokenizer.from_pretrained(\n",
    "    \"Bllossom/llama-3.2-Korean-Bllossom-3B\",\n",
    "    trust_remote_code=True,\n",
    ")"
   ]
  },
  {
   "cell_type": "markdown",
   "metadata": {},
   "source": [
    "### chat template 확인"
   ]
  },
  {
   "cell_type": "code",
   "execution_count": 7,
   "metadata": {},
   "outputs": [
    {
     "name": "stdout",
     "output_type": "stream",
     "text": [
      "('{{- bos_token }}\\n'\n",
      " '{%- if custom_tools is defined %}\\n'\n",
      " '    {%- set tools = custom_tools %}\\n'\n",
      " '{%- endif %}\\n'\n",
      " '{%- if not tools_in_user_message is defined %}\\n'\n",
      " '    {%- set tools_in_user_message = true %}\\n'\n",
      " '{%- endif %}\\n'\n",
      " '{%- if not date_string is defined %}\\n'\n",
      " '    {%- if strftime_now is defined %}\\n'\n",
      " '        {%- set date_string = strftime_now(\"%d %b %Y\") %}\\n'\n",
      " '    {%- else %}\\n'\n",
      " '        {%- set date_string = \"26 Jul 2024\" %}\\n'\n",
      " '    {%- endif %}\\n'\n",
      " '{%- endif %}\\n'\n",
      " '{%- if not tools is defined %}\\n'\n",
      " '    {%- set tools = none %}\\n'\n",
      " '{%- endif %}\\n'\n",
      " '\\n'\n",
      " '{#- This block extracts the system message, so we can slot it into the right '\n",
      " 'place. #}\\n'\n",
      " \"{%- if messages[0]['role'] == 'system' %}\\n\"\n",
      " \"    {%- set system_message = messages[0]['content']|trim %}\\n\"\n",
      " '    {%- set messages = messages[1:] %}\\n'\n",
      " '{%- else %}\\n'\n",
      " '    {%- set system_message = \"You are a helpful AI assistant. Please answer '\n",
      " \"the user's questions kindly. 당신은 유능한 AI 어시스턴트 입니다. 사용자의 질문에 대해 친절하게 \"\n",
      " '답변해주세요.\" %}\\n'\n",
      " '{%- endif %}\\n'\n",
      " '\\n'\n",
      " '{#- System message #}\\n'\n",
      " '{{- \"<|start_header_id|>system<|end_header_id|>\\\\n\\\\n\" }}\\n'\n",
      " '{%- if tools is not none %}\\n'\n",
      " '    {{- \"Environment: ipython\\\\n\" }}\\n'\n",
      " '{%- endif %}\\n'\n",
      " '{{- \"Cutting Knowledge Date: December 2023\\\\n\" }}\\n'\n",
      " '{{- \"Today Date: \" + date_string + \"\\\\n\\\\n\" }}\\n'\n",
      " '{%- if tools is not none and not tools_in_user_message %}\\n'\n",
      " '    {{- \"You have access to the following functions. To call a function, '\n",
      " 'please respond with JSON for a function call.\" }}\\n'\n",
      " '    {{- \\'Respond in the format {\"name\": function name, \"parameters\": '\n",
      " \"dictionary of argument name and its value}.' }}\\n\"\n",
      " '    {{- \"Do not use variables.\\\\n\\\\n\" }}\\n'\n",
      " '    {%- for t in tools %}\\n'\n",
      " '        {{- t | tojson(indent=4) }}\\n'\n",
      " '        {{- \"\\\\n\\\\n\" }}\\n'\n",
      " '    {%- endfor %}\\n'\n",
      " '{%- endif %}\\n'\n",
      " '{{- system_message }}\\n'\n",
      " '{{- \"<|eot_id|>\" }}\\n'\n",
      " '\\n'\n",
      " '{#- Custom tools are passed in a user message with some extra guidance #}\\n'\n",
      " '{%- if tools_in_user_message and not tools is none %}\\n'\n",
      " '    {#- Extract the first user message so we can plug it in here #}\\n'\n",
      " '    {%- if messages | length != 0 %}\\n'\n",
      " \"        {%- set first_user_message = messages[0]['content']|trim %}\\n\"\n",
      " '        {%- set messages = messages[1:] %}\\n'\n",
      " '    {%- else %}\\n'\n",
      " '        {{- raise_exception(\"Cannot put tools in the first user message when '\n",
      " 'there\\'s no first user message!\") }}\\n'\n",
      " '{%- endif %}\\n'\n",
      " \"    {{- '<|start_header_id|>user<|end_header_id|>\\\\n\\\\n' -}}\\n\"\n",
      " '    {{- \"Given the following functions, please respond with a JSON for a '\n",
      " 'function call \" }}\\n'\n",
      " '    {{- \"with its proper arguments that best answers the given '\n",
      " 'prompt.\\\\n\\\\n\" }}\\n'\n",
      " '    {{- \\'Respond in the format {\"name\": function name, \"parameters\": '\n",
      " \"dictionary of argument name and its value}.' }}\\n\"\n",
      " '    {{- \"Do not use variables.\\\\n\\\\n\" }}\\n'\n",
      " '    {%- for t in tools %}\\n'\n",
      " '        {{- t | tojson(indent=4) }}\\n'\n",
      " '        {{- \"\\\\n\\\\n\" }}\\n'\n",
      " '    {%- endfor %}\\n'\n",
      " '    {{- first_user_message + \"<|eot_id|>\"}}\\n'\n",
      " '{%- endif %}\\n'\n",
      " '\\n'\n",
      " '{%- for message in messages %}\\n'\n",
      " \"    {%- if not (message.role == 'ipython' or message.role == 'tool' or \"\n",
      " \"'tool_calls' in message) %}\\n\"\n",
      " \"        {{- '<|start_header_id|>' + message['role'] + \"\n",
      " \"'<|end_header_id|>\\\\n\\\\n'+ message['content'] | trim + '<|eot_id|>' }}\\n\"\n",
      " \"    {%- elif 'tool_calls' in message %}\\n\"\n",
      " '        {%- if not message.tool_calls|length == 1 %}\\n'\n",
      " '            {{- raise_exception(\"This model only supports single tool-calls '\n",
      " 'at once!\") }}\\n'\n",
      " '        {%- endif %}\\n'\n",
      " '        {%- set tool_call = message.tool_calls[0].function %}\\n'\n",
      " \"        {{- '<|start_header_id|>assistant<|end_header_id|>\\\\n\\\\n' -}}\\n\"\n",
      " '        {{- \\'{\"name\": \"\\' + tool_call.name + \\'\", \\' }}\\n'\n",
      " '        {{- \\'\"parameters\": \\' }}\\n'\n",
      " '        {{- tool_call.arguments | tojson }}\\n'\n",
      " '        {{- \"}\" }}\\n'\n",
      " '        {{- \"<|eot_id|>\" }}\\n'\n",
      " '    {%- elif message.role == \"tool\" or message.role == \"ipython\" %}\\n'\n",
      " '        {{- \"<|start_header_id|>ipython<|end_header_id|>\\\\n\\\\n\" }}\\n'\n",
      " '        {%- if message.content is mapping or message.content is iterable %}\\n'\n",
      " '            {{- message.content | tojson }}\\n'\n",
      " '        {%- else %}\\n'\n",
      " '            {{- message.content }}\\n'\n",
      " '        {%- endif %}\\n'\n",
      " '        {{- \"<|eot_id|>\" }}\\n'\n",
      " '    {%- endif %}\\n'\n",
      " '{%- endfor %}\\n'\n",
      " '{%- if add_generation_prompt %}\\n'\n",
      " \"    {{- '<|start_header_id|>assistant<|end_header_id|>\\\\n\\\\n' }}\\n\"\n",
      " '{%- endif %}\\n')\n"
     ]
    }
   ],
   "source": [
    "pprint(tokenizer.chat_template)"
   ]
  },
  {
   "cell_type": "markdown",
   "metadata": {},
   "source": [
    "chat_template이 None일 경우, 베이스라인 모델처럼 chat_template을 설정해주세요."
   ]
  },
  {
   "cell_type": "code",
   "execution_count": 8,
   "metadata": {},
   "outputs": [
    {
     "data": {
      "text/plain": [
       "{'bos_token': '<|begin_of_text|>', 'eos_token': '<|eot_id|>'}"
      ]
     },
     "execution_count": 8,
     "metadata": {},
     "output_type": "execute_result"
    }
   ],
   "source": [
    "tokenizer.special_tokens_map"
   ]
  },
  {
   "cell_type": "code",
   "execution_count": 3,
   "metadata": {},
   "outputs": [
    {
     "name": "stderr",
     "output_type": "stream",
     "text": [
      "Converting to prompts: 100%|██████████| 1634/1634 [00:00<00:00, 9400.54it/s]\n"
     ]
    },
    {
     "data": {
      "application/vnd.jupyter.widget-view+json": {
       "model_id": "9ec83a35272a4b4d8049fcaffdbc88c1",
       "version_major": 2,
       "version_minor": 0
      },
      "text/plain": [
       "Tokenizing (num_proc=4):   0%|          | 0/1634 [00:00<?, ? examples/s]"
      ]
     },
     "metadata": {},
     "output_type": "display_data"
    },
    {
     "name": "stderr",
     "output_type": "stream",
     "text": [
      "Converting to prompts: 100%|██████████| 397/397 [00:00<00:00, 8917.12it/s]\n"
     ]
    },
    {
     "data": {
      "application/vnd.jupyter.widget-view+json": {
       "model_id": "3136427fffcd44c0b34c6ce6415aee3e",
       "version_major": 2,
       "version_minor": 0
      },
      "text/plain": [
       "Tokenizing (num_proc=4):   0%|          | 0/397 [00:00<?, ? examples/s]"
      ]
     },
     "metadata": {},
     "output_type": "display_data"
    }
   ],
   "source": [
    "config = OmegaConf.load(\"/data/ephemeral/home/JH/level2-nlp-generationfornlp-nlp-04-lv3/config/config.yaml\")\n",
    "data_module = KsatDataModule(tokenizer, config.data)\n",
    "data_module.setup(\"train\")"
   ]
  },
  {
   "cell_type": "code",
   "execution_count": 4,
   "metadata": {},
   "outputs": [
    {
     "name": "stdout",
     "output_type": "stream",
     "text": [
      "<|begin_of_text|><|begin_of_text|><|start_header_id|>system<|end_header_id|>\n",
      "\n",
      "Cutting Knowledge Date: December 2023\n",
      "Today Date: 15 Nov 2024\n",
      "\n",
      "지문을 읽고 질문의 답을 구하세요.<|eot_id|><|start_header_id|>user<|end_header_id|>\n",
      "\n",
      "지문:\n",
      "            상소하여 아뢰기를, “신이 좌참 찬 송준길이 올린 차자를 보았는데, 상복(喪服) 절차에 대하여 논한 것이 신과는 큰 차이가 있었습니다. 장자를 위하여 3년을 입는 까닭은 위로 ‘정체(正體)’가 되기 때문이고 또 전 중(傳重: 조상의 제사나 가문의 법통을 전함)하기 때문입니다. …(중략) … 무엇보다 중요한 것은 할아버지와 아버지의 뒤를 이은 ‘정체’이지, 꼭 첫째이기 때문에 참 최 3년 복을 입는 것은 아닙니다.”라고 하였다.－현종실록 －ㄱ.기 사환국으로 정권을 장악하였다.ㄴ.인 조반정을 주도 하여 집권세력이 되었다.ㄷ.정조 시기에 탕평 정치의 한 축을 이루었다.ㄹ.이 이와 성혼의 문인을 중심으로 형성되었다.\n",
      "\n",
      "            질문:\n",
      "            상소한 인물이 속한 붕당에 대한 설명으로 옳은 것만을 모두 고르면?\n",
      "\n",
      "            선택지:\n",
      "            1 - ㄱ, ㄷ\n",
      "2 - ㄱ, ㄴ\n",
      "3 - ㄴ, ㄹ\n",
      "4 - ㄷ, ㄹ\n",
      "\n",
      "            1, 2, 3, 4, 5 중에 하나를 정답으로 고르세요.\n",
      "            정답:<|eot_id|><|start_header_id|>assistant<|end_header_id|>\n",
      "\n",
      "1<|eot_id|>\n"
     ]
    }
   ],
   "source": [
    "print(tokenizer.decode(data_module.train_examples[0][\"input_ids\"], skip_special_tokens=False))"
   ]
  },
  {
   "cell_type": "markdown",
   "metadata": {},
   "source": [
    "여기서 \"정답 번호\\<eos token>\" 위의 일부분을 복사해서 `model.py`의 `_get_response_template` 메서드에 response_template으로 추가해주세요.\n",
    "\n",
    "예를 들어,\n",
    "```\n",
    "...\n",
    "\n",
    "1, 2, 3, 4, 5 중에 하나를 정답으로 고르세요.\n",
    "정답:<|eot_id|><|start_header_id|>assistant<|end_header_id|>\n",
    "\n",
    "1<|eot_id|>\n",
    "```\n",
    "\n",
    "\n",
    "템플릿이 이렇게 되어 있으면 \"1<|eot_id|>\" 위의 \n",
    "\n",
    "\"<|start_header_id|>assistant<|end_header_id|>\\n\\n\" 정도를 복사해서 response_template으로 설정하면 됩니다."
   ]
  },
  {
   "cell_type": "code",
   "execution_count": 13,
   "metadata": {},
   "outputs": [
    {
     "name": "stdout",
     "output_type": "stream",
     "text": [
      " 정\n",
      "답\n",
      ":\n",
      "<|eot_id|>\n",
      "<|start_header_id|>\n",
      "assistant\n",
      "<|end_header_id|>\n",
      "\n",
      "\n",
      "\n",
      "1\n",
      "<|eot_id|>\n"
     ]
    }
   ],
   "source": [
    "for token_id in data_module.train_examples[0][\"input_ids\"][-10:]:\n",
    "    print(tokenizer.decode([token_id], skip_special_tokens=False))"
   ]
  },
  {
   "cell_type": "code",
   "execution_count": 11,
   "metadata": {},
   "outputs": [
    {
     "data": {
      "text/plain": [
       "{'bos_token': '<|begin_of_text|>', 'eos_token': '<|eot_id|>'}"
      ]
     },
     "execution_count": 11,
     "metadata": {},
     "output_type": "execute_result"
    }
   ],
   "source": [
    "tokenizer.special_tokens_map"
   ]
  },
  {
   "cell_type": "markdown",
   "metadata": {},
   "source": [
    "모델의 토크나이저에 설정된 스페셜 토큰 목록과 템플릿 디코딩 결과를 보고, 정답 번호 뒤 마지막 토큰이 한 단위로 안 묶여 있으면 `model.py`의 `_get_special_tokens` 메서드에서 스페셜 토큰으로 추가해주시면 됩니다."
   ]
  }
 ],
 "metadata": {
  "kernelspec": {
   "display_name": "base",
   "language": "python",
   "name": "python3"
  },
  "language_info": {
   "codemirror_mode": {
    "name": "ipython",
    "version": 3
   },
   "file_extension": ".py",
   "mimetype": "text/x-python",
   "name": "python",
   "nbconvert_exporter": "python",
   "pygments_lexer": "ipython3",
   "version": "3.10.13"
  }
 },
 "nbformat": 4,
 "nbformat_minor": 2
}
